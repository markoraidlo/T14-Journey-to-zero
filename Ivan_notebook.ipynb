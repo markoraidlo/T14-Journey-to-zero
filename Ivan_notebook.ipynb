{
 "cells": [
  {
   "cell_type": "code",
   "execution_count": 19,
   "metadata": {},
   "outputs": [],
   "source": [
    "import numpy as np\n",
    "import pandas as pd"
   ]
  },
  {
   "cell_type": "markdown",
   "metadata": {},
   "source": [
    "Downloading data and unzipping it:"
   ]
  },
  {
   "cell_type": "code",
   "execution_count": 18,
   "metadata": {},
   "outputs": [
    {
     "name": "stdout",
     "output_type": "stream",
     "text": [
      "Downloading predict-electricity-consumption.zip to c:\\Learning\\DataScience\\study\\UT\\ML2022\\T14-Journey-to-zero\n",
      "\n"
     ]
    },
    {
     "name": "stderr",
     "output_type": "stream",
     "text": [
      "\n",
      "  0%|          | 0.00/174k [00:00<?, ?B/s]\n",
      "100%|██████████| 174k/174k [00:00<00:00, 1.13MB/s]\n",
      "100%|██████████| 174k/174k [00:00<00:00, 1.13MB/s]\n",
      "A subdirectory or file data already exists.\n"
     ]
    },
    {
     "name": "stdout",
     "output_type": "stream",
     "text": [
      "        1 file(s) moved.\n",
      "        1 file(s) moved.\n",
      "        1 file(s) moved.\n"
     ]
    }
   ],
   "source": [
    "!kaggle competitions download -c predict-electricity-consumption\n",
    "!tar -xf predict-electricity-consumption.zip\n",
    "!mkdir data\n",
    "!move train.csv data\n",
    "!move test.csv data\n",
    "!move sample_submission.csv data\n",
    "!del predict-electricity-consumption.zip"
   ]
  },
  {
   "cell_type": "code",
   "execution_count": 51,
   "metadata": {},
   "outputs": [],
   "source": [
    "train = pd.read_csv('data/train.csv')"
   ]
  },
  {
   "cell_type": "code",
   "execution_count": 52,
   "metadata": {},
   "outputs": [],
   "source": [
    "train['time'] = pd.to_datetime(train['time'])  \n",
    "train['coco'] = train['coco'].astype('category')"
   ]
  },
  {
   "cell_type": "code",
   "execution_count": 55,
   "metadata": {},
   "outputs": [
    {
     "data": {
      "text/plain": [
       "time             object\n",
       "temp            float64\n",
       "dwpt            float64\n",
       "rhum            float64\n",
       "prcp            float64\n",
       "snow            float64\n",
       "wdir            float64\n",
       "wspd            float64\n",
       "wpgt            float64\n",
       "pres            float64\n",
       "coco           category\n",
       "el_price        float64\n",
       "consumption     float64\n",
       "dtype: object"
      ]
     },
     "execution_count": 55,
     "metadata": {},
     "output_type": "execute_result"
    }
   ],
   "source": [
    "train.dtypes"
   ]
  },
  {
   "cell_type": "code",
   "execution_count": 53,
   "metadata": {},
   "outputs": [
    {
     "data": {
      "text/html": [
       "<div>\n",
       "<style scoped>\n",
       "    .dataframe tbody tr th:only-of-type {\n",
       "        vertical-align: middle;\n",
       "    }\n",
       "\n",
       "    .dataframe tbody tr th {\n",
       "        vertical-align: top;\n",
       "    }\n",
       "\n",
       "    .dataframe thead th {\n",
       "        text-align: right;\n",
       "    }\n",
       "</style>\n",
       "<table border=\"1\" class=\"dataframe\">\n",
       "  <thead>\n",
       "    <tr style=\"text-align: right;\">\n",
       "      <th></th>\n",
       "      <th>time</th>\n",
       "      <th>temp</th>\n",
       "      <th>dwpt</th>\n",
       "      <th>rhum</th>\n",
       "      <th>prcp</th>\n",
       "      <th>snow</th>\n",
       "      <th>wdir</th>\n",
       "      <th>wspd</th>\n",
       "      <th>wpgt</th>\n",
       "      <th>pres</th>\n",
       "      <th>coco</th>\n",
       "      <th>el_price</th>\n",
       "      <th>consumption</th>\n",
       "    </tr>\n",
       "  </thead>\n",
       "  <tbody>\n",
       "    <tr>\n",
       "      <th>0</th>\n",
       "      <td>2021-09-01 00:00:00+03:00</td>\n",
       "      <td>11.2</td>\n",
       "      <td>10.3</td>\n",
       "      <td>94.0</td>\n",
       "      <td>NaN</td>\n",
       "      <td>NaN</td>\n",
       "      <td>320.0</td>\n",
       "      <td>7.2</td>\n",
       "      <td>16.7</td>\n",
       "      <td>1012.6</td>\n",
       "      <td>2.0</td>\n",
       "      <td>0.09016</td>\n",
       "      <td>0.577</td>\n",
       "    </tr>\n",
       "    <tr>\n",
       "      <th>1</th>\n",
       "      <td>2021-09-01 01:00:00+03:00</td>\n",
       "      <td>10.7</td>\n",
       "      <td>9.6</td>\n",
       "      <td>93.0</td>\n",
       "      <td>NaN</td>\n",
       "      <td>NaN</td>\n",
       "      <td>320.0</td>\n",
       "      <td>7.2</td>\n",
       "      <td>13.0</td>\n",
       "      <td>1012.6</td>\n",
       "      <td>2.0</td>\n",
       "      <td>0.09251</td>\n",
       "      <td>0.594</td>\n",
       "    </tr>\n",
       "    <tr>\n",
       "      <th>2</th>\n",
       "      <td>2021-09-01 02:00:00+03:00</td>\n",
       "      <td>9.9</td>\n",
       "      <td>9.0</td>\n",
       "      <td>94.0</td>\n",
       "      <td>NaN</td>\n",
       "      <td>NaN</td>\n",
       "      <td>320.0</td>\n",
       "      <td>7.2</td>\n",
       "      <td>13.0</td>\n",
       "      <td>1012.2</td>\n",
       "      <td>2.0</td>\n",
       "      <td>0.08890</td>\n",
       "      <td>0.685</td>\n",
       "    </tr>\n",
       "    <tr>\n",
       "      <th>3</th>\n",
       "      <td>2021-09-01 03:00:00+03:00</td>\n",
       "      <td>10.0</td>\n",
       "      <td>8.4</td>\n",
       "      <td>90.0</td>\n",
       "      <td>NaN</td>\n",
       "      <td>NaN</td>\n",
       "      <td>330.0</td>\n",
       "      <td>7.2</td>\n",
       "      <td>13.0</td>\n",
       "      <td>1011.9</td>\n",
       "      <td>1.0</td>\n",
       "      <td>0.08735</td>\n",
       "      <td>1.016</td>\n",
       "    </tr>\n",
       "    <tr>\n",
       "      <th>4</th>\n",
       "      <td>2021-09-01 04:00:00+03:00</td>\n",
       "      <td>9.0</td>\n",
       "      <td>8.1</td>\n",
       "      <td>94.0</td>\n",
       "      <td>NaN</td>\n",
       "      <td>NaN</td>\n",
       "      <td>300.0</td>\n",
       "      <td>3.6</td>\n",
       "      <td>13.0</td>\n",
       "      <td>1011.4</td>\n",
       "      <td>2.0</td>\n",
       "      <td>0.08688</td>\n",
       "      <td>0.677</td>\n",
       "    </tr>\n",
       "  </tbody>\n",
       "</table>\n",
       "</div>"
      ],
      "text/plain": [
       "                        time  temp  dwpt  rhum  prcp  snow   wdir  wspd  wpgt  \\\n",
       "0  2021-09-01 00:00:00+03:00  11.2  10.3  94.0   NaN   NaN  320.0   7.2  16.7   \n",
       "1  2021-09-01 01:00:00+03:00  10.7   9.6  93.0   NaN   NaN  320.0   7.2  13.0   \n",
       "2  2021-09-01 02:00:00+03:00   9.9   9.0  94.0   NaN   NaN  320.0   7.2  13.0   \n",
       "3  2021-09-01 03:00:00+03:00  10.0   8.4  90.0   NaN   NaN  330.0   7.2  13.0   \n",
       "4  2021-09-01 04:00:00+03:00   9.0   8.1  94.0   NaN   NaN  300.0   3.6  13.0   \n",
       "\n",
       "     pres coco  el_price  consumption  \n",
       "0  1012.6  2.0   0.09016        0.577  \n",
       "1  1012.6  2.0   0.09251        0.594  \n",
       "2  1012.2  2.0   0.08890        0.685  \n",
       "3  1011.9  1.0   0.08735        1.016  \n",
       "4  1011.4  2.0   0.08688        0.677  "
      ]
     },
     "execution_count": 53,
     "metadata": {},
     "output_type": "execute_result"
    }
   ],
   "source": [
    "train.head()"
   ]
  }
 ],
 "metadata": {
  "kernelspec": {
   "display_name": "Python 3.10.6 ('UT_ML')",
   "language": "python",
   "name": "python3"
  },
  "language_info": {
   "codemirror_mode": {
    "name": "ipython",
    "version": 3
   },
   "file_extension": ".py",
   "mimetype": "text/x-python",
   "name": "python",
   "nbconvert_exporter": "python",
   "pygments_lexer": "ipython3",
   "version": "3.10.6"
  },
  "orig_nbformat": 4,
  "vscode": {
   "interpreter": {
    "hash": "9f7f30cae9a05fb7ca7d97f97c1864ab188c38a5ce1e9687e854948207c5a03d"
   }
  }
 },
 "nbformat": 4,
 "nbformat_minor": 2
}
