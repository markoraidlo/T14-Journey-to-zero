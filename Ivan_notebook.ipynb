{
 "cells": [
  {
   "cell_type": "code",
   "execution_count": 1,
   "metadata": {},
   "outputs": [],
   "source": [
    "import numpy as np\n",
    "import pandas as pd"
   ]
  },
  {
   "cell_type": "code",
   "execution_count": 17,
   "metadata": {},
   "outputs": [
    {
     "name": "stdout",
     "output_type": "stream",
     "text": [
      "        1 file(s) moved.\n",
      "        1 file(s) moved.\n",
      "        1 file(s) moved.\n"
     ]
    }
   ],
   "source": [
    "!kaggle competitions download -c predict-electricity-consumption\n",
    "!tar -xf predict-electricity-consumption.zip\n",
    "!mkdir data\n",
    "!move train.csv data\n",
    "!move test.csv data\n",
    "!move sample_submission.csv data\n",
    "!del predict-electricity-consumption.zip"
   ]
  },
  {
   "cell_type": "code",
   "execution_count": 14,
   "metadata": {},
   "outputs": [],
   "source": []
  },
  {
   "cell_type": "code",
   "execution_count": null,
   "metadata": {},
   "outputs": [],
   "source": []
  }
 ],
 "metadata": {
  "kernelspec": {
   "display_name": "Python 3.10.6 ('UT_ML')",
   "language": "python",
   "name": "python3"
  },
  "language_info": {
   "codemirror_mode": {
    "name": "ipython",
    "version": 3
   },
   "file_extension": ".py",
   "mimetype": "text/x-python",
   "name": "python",
   "nbconvert_exporter": "python",
   "pygments_lexer": "ipython3",
   "version": "3.10.6"
  },
  "orig_nbformat": 4,
  "vscode": {
   "interpreter": {
    "hash": "9f7f30cae9a05fb7ca7d97f97c1864ab188c38a5ce1e9687e854948207c5a03d"
   }
  }
 },
 "nbformat": 4,
 "nbformat_minor": 2
}
