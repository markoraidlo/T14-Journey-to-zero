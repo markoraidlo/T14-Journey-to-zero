{
 "cells": [
  {
   "cell_type": "code",
   "execution_count": 1,
   "metadata": {},
   "outputs": [],
   "source": [
    "import numpy as np\n",
    "import pandas as pd"
   ]
  },
  {
   "cell_type": "code",
   "execution_count": 2,
   "metadata": {},
   "outputs": [],
   "source": [
    "from sklearn.metrics import mean_absolute_error"
   ]
  },
  {
   "cell_type": "code",
   "execution_count": 3,
   "metadata": {},
   "outputs": [
    {
     "data": {
      "text/html": [
       "<div>\n",
       "<style scoped>\n",
       "    .dataframe tbody tr th:only-of-type {\n",
       "        vertical-align: middle;\n",
       "    }\n",
       "\n",
       "    .dataframe tbody tr th {\n",
       "        vertical-align: top;\n",
       "    }\n",
       "\n",
       "    .dataframe thead th {\n",
       "        text-align: right;\n",
       "    }\n",
       "</style>\n",
       "<table border=\"1\" class=\"dataframe\">\n",
       "  <thead>\n",
       "    <tr style=\"text-align: right;\">\n",
       "      <th></th>\n",
       "      <th>time</th>\n",
       "      <th>temp</th>\n",
       "      <th>dwpt</th>\n",
       "      <th>rhum</th>\n",
       "      <th>prcp</th>\n",
       "      <th>snow</th>\n",
       "      <th>wdir</th>\n",
       "      <th>wspd</th>\n",
       "      <th>wpgt</th>\n",
       "      <th>pres</th>\n",
       "      <th>coco</th>\n",
       "      <th>el_price</th>\n",
       "      <th>consumption</th>\n",
       "    </tr>\n",
       "  </thead>\n",
       "  <tbody>\n",
       "    <tr>\n",
       "      <th>8587</th>\n",
       "      <td>2022-08-24 19:00:00+03:00</td>\n",
       "      <td>27.1</td>\n",
       "      <td>17.0</td>\n",
       "      <td>54.0</td>\n",
       "      <td>0.0</td>\n",
       "      <td>NaN</td>\n",
       "      <td>180.0</td>\n",
       "      <td>4.0</td>\n",
       "      <td>11.1</td>\n",
       "      <td>1020.0</td>\n",
       "      <td>2.0</td>\n",
       "      <td>0.53494</td>\n",
       "      <td>0.678</td>\n",
       "    </tr>\n",
       "    <tr>\n",
       "      <th>8588</th>\n",
       "      <td>2022-08-24 20:00:00+03:00</td>\n",
       "      <td>25.1</td>\n",
       "      <td>17.1</td>\n",
       "      <td>61.0</td>\n",
       "      <td>0.0</td>\n",
       "      <td>NaN</td>\n",
       "      <td>220.0</td>\n",
       "      <td>6.0</td>\n",
       "      <td>11.1</td>\n",
       "      <td>1021.0</td>\n",
       "      <td>1.0</td>\n",
       "      <td>0.49990</td>\n",
       "      <td>0.457</td>\n",
       "    </tr>\n",
       "    <tr>\n",
       "      <th>8589</th>\n",
       "      <td>2022-08-24 21:00:00+03:00</td>\n",
       "      <td>24.9</td>\n",
       "      <td>18.1</td>\n",
       "      <td>66.0</td>\n",
       "      <td>0.0</td>\n",
       "      <td>NaN</td>\n",
       "      <td>150.0</td>\n",
       "      <td>4.0</td>\n",
       "      <td>9.3</td>\n",
       "      <td>1020.9</td>\n",
       "      <td>4.0</td>\n",
       "      <td>0.43149</td>\n",
       "      <td>0.500</td>\n",
       "    </tr>\n",
       "    <tr>\n",
       "      <th>8590</th>\n",
       "      <td>2022-08-24 22:00:00+03:00</td>\n",
       "      <td>22.1</td>\n",
       "      <td>17.0</td>\n",
       "      <td>73.0</td>\n",
       "      <td>0.0</td>\n",
       "      <td>NaN</td>\n",
       "      <td>160.0</td>\n",
       "      <td>6.0</td>\n",
       "      <td>9.3</td>\n",
       "      <td>1021.0</td>\n",
       "      <td>2.0</td>\n",
       "      <td>0.55203</td>\n",
       "      <td>2.321</td>\n",
       "    </tr>\n",
       "    <tr>\n",
       "      <th>8591</th>\n",
       "      <td>2022-08-24 23:00:00+03:00</td>\n",
       "      <td>22.1</td>\n",
       "      <td>18.1</td>\n",
       "      <td>78.0</td>\n",
       "      <td>0.0</td>\n",
       "      <td>NaN</td>\n",
       "      <td>310.0</td>\n",
       "      <td>15.0</td>\n",
       "      <td>9.3</td>\n",
       "      <td>1021.0</td>\n",
       "      <td>2.0</td>\n",
       "      <td>0.43108</td>\n",
       "      <td>0.678</td>\n",
       "    </tr>\n",
       "  </tbody>\n",
       "</table>\n",
       "</div>"
      ],
      "text/plain": [
       "                           time  temp  dwpt  rhum  prcp  snow   wdir  wspd  \\\n",
       "8587  2022-08-24 19:00:00+03:00  27.1  17.0  54.0   0.0   NaN  180.0   4.0   \n",
       "8588  2022-08-24 20:00:00+03:00  25.1  17.1  61.0   0.0   NaN  220.0   6.0   \n",
       "8589  2022-08-24 21:00:00+03:00  24.9  18.1  66.0   0.0   NaN  150.0   4.0   \n",
       "8590  2022-08-24 22:00:00+03:00  22.1  17.0  73.0   0.0   NaN  160.0   6.0   \n",
       "8591  2022-08-24 23:00:00+03:00  22.1  18.1  78.0   0.0   NaN  310.0  15.0   \n",
       "\n",
       "      wpgt    pres  coco  el_price  consumption  \n",
       "8587  11.1  1020.0   2.0   0.53494        0.678  \n",
       "8588  11.1  1021.0   1.0   0.49990        0.457  \n",
       "8589   9.3  1020.9   4.0   0.43149        0.500  \n",
       "8590   9.3  1021.0   2.0   0.55203        2.321  \n",
       "8591   9.3  1021.0   2.0   0.43108        0.678  "
      ]
     },
     "execution_count": 3,
     "metadata": {},
     "output_type": "execute_result"
    }
   ],
   "source": [
    "df = pd.read_csv('data/train.csv')\n",
    "df.tail()"
   ]
  },
  {
   "cell_type": "code",
   "execution_count": 4,
   "metadata": {},
   "outputs": [
    {
     "data": {
      "text/html": [
       "<div>\n",
       "<style scoped>\n",
       "    .dataframe tbody tr th:only-of-type {\n",
       "        vertical-align: middle;\n",
       "    }\n",
       "\n",
       "    .dataframe tbody tr th {\n",
       "        vertical-align: top;\n",
       "    }\n",
       "\n",
       "    .dataframe thead th {\n",
       "        text-align: right;\n",
       "    }\n",
       "</style>\n",
       "<table border=\"1\" class=\"dataframe\">\n",
       "  <thead>\n",
       "    <tr style=\"text-align: right;\">\n",
       "      <th></th>\n",
       "      <th>time</th>\n",
       "      <th>consumption</th>\n",
       "    </tr>\n",
       "  </thead>\n",
       "  <tbody>\n",
       "    <tr>\n",
       "      <th>8424</th>\n",
       "      <td>2022-08-18 00:00:00+03:00</td>\n",
       "      <td>0.245</td>\n",
       "    </tr>\n",
       "    <tr>\n",
       "      <th>8425</th>\n",
       "      <td>2022-08-18 01:00:00+03:00</td>\n",
       "      <td>0.178</td>\n",
       "    </tr>\n",
       "    <tr>\n",
       "      <th>8426</th>\n",
       "      <td>2022-08-18 02:00:00+03:00</td>\n",
       "      <td>0.203</td>\n",
       "    </tr>\n",
       "    <tr>\n",
       "      <th>8427</th>\n",
       "      <td>2022-08-18 03:00:00+03:00</td>\n",
       "      <td>0.215</td>\n",
       "    </tr>\n",
       "    <tr>\n",
       "      <th>8428</th>\n",
       "      <td>2022-08-18 04:00:00+03:00</td>\n",
       "      <td>1.043</td>\n",
       "    </tr>\n",
       "    <tr>\n",
       "      <th>...</th>\n",
       "      <td>...</td>\n",
       "      <td>...</td>\n",
       "    </tr>\n",
       "    <tr>\n",
       "      <th>8587</th>\n",
       "      <td>2022-08-24 19:00:00+03:00</td>\n",
       "      <td>0.678</td>\n",
       "    </tr>\n",
       "    <tr>\n",
       "      <th>8588</th>\n",
       "      <td>2022-08-24 20:00:00+03:00</td>\n",
       "      <td>0.457</td>\n",
       "    </tr>\n",
       "    <tr>\n",
       "      <th>8589</th>\n",
       "      <td>2022-08-24 21:00:00+03:00</td>\n",
       "      <td>0.500</td>\n",
       "    </tr>\n",
       "    <tr>\n",
       "      <th>8590</th>\n",
       "      <td>2022-08-24 22:00:00+03:00</td>\n",
       "      <td>2.321</td>\n",
       "    </tr>\n",
       "    <tr>\n",
       "      <th>8591</th>\n",
       "      <td>2022-08-24 23:00:00+03:00</td>\n",
       "      <td>0.678</td>\n",
       "    </tr>\n",
       "  </tbody>\n",
       "</table>\n",
       "<p>168 rows × 2 columns</p>\n",
       "</div>"
      ],
      "text/plain": [
       "                           time  consumption\n",
       "8424  2022-08-18 00:00:00+03:00        0.245\n",
       "8425  2022-08-18 01:00:00+03:00        0.178\n",
       "8426  2022-08-18 02:00:00+03:00        0.203\n",
       "8427  2022-08-18 03:00:00+03:00        0.215\n",
       "8428  2022-08-18 04:00:00+03:00        1.043\n",
       "...                         ...          ...\n",
       "8587  2022-08-24 19:00:00+03:00        0.678\n",
       "8588  2022-08-24 20:00:00+03:00        0.457\n",
       "8589  2022-08-24 21:00:00+03:00        0.500\n",
       "8590  2022-08-24 22:00:00+03:00        2.321\n",
       "8591  2022-08-24 23:00:00+03:00        0.678\n",
       "\n",
       "[168 rows x 2 columns]"
      ]
     },
     "execution_count": 4,
     "metadata": {},
     "output_type": "execute_result"
    }
   ],
   "source": [
    "y_true = df.iloc[df.shape[0]-24*7:][['time', 'consumption']]\n",
    "y_true"
   ]
  },
  {
   "attachments": {},
   "cell_type": "markdown",
   "metadata": {},
   "source": [
    "XGBRegressor"
   ]
  },
  {
   "cell_type": "code",
   "execution_count": 5,
   "metadata": {},
   "outputs": [],
   "source": [
    "import pandas as pd\n",
    "from datetime import datetime as dt\n",
    "import numpy as np\n",
    "from sklearn.model_selection import train_test_split\n",
    "from sklearn.model_selection import KFold\n",
    "from sklearn.model_selection import cross_val_score\n",
    "from sklearn.ensemble import GradientBoostingRegressor\n",
    "from sklearn.model_selection import train_test_split"
   ]
  },
  {
   "cell_type": "code",
   "execution_count": 6,
   "metadata": {},
   "outputs": [],
   "source": [
    "def generate_cyclical_features(df, col_name, period, start_num=0):\n",
    "    kwargs = {\n",
    "        f'sin_{col_name}': lambda x: np.sin(2 * np.pi * (df[col_name] - start_num) / period),\n",
    "        f'cos_{col_name}': lambda x: np.cos(2 * np.pi * (df[col_name] - start_num) / period)\n",
    "    }\n",
    "    return df.assign(**kwargs)"
   ]
  },
  {
   "cell_type": "code",
   "execution_count": 7,
   "metadata": {},
   "outputs": [],
   "source": [
    "df_XGB = df[['time', 'temp', 'el_price', 'coco', 'consumption']].dropna()\n",
    "\n",
    "df_XGB['hour'] = df_XGB['time'].apply(lambda x: dt.strptime(str(x), \"%Y-%m-%d %H:%M:%S%z\").hour)\n",
    "df_XGB['month'] = df_XGB['time'].apply(lambda x: dt.strptime(str(x), \"%Y-%m-%d %H:%M:%S%z\").month)\n",
    "\n",
    "df_XGB = generate_cyclical_features(df_XGB, 'hour', 24, 0)\n",
    "df_XGB = generate_cyclical_features(df_XGB, 'month', 12, 1)"
   ]
  },
  {
   "attachments": {},
   "cell_type": "markdown",
   "metadata": {},
   "source": [
    "Test data"
   ]
  },
  {
   "cell_type": "code",
   "execution_count": 37,
   "metadata": {},
   "outputs": [],
   "source": [
    "df_kaggle_XGB = pd.read_csv('data/test.csv')"
   ]
  },
  {
   "cell_type": "code",
   "execution_count": 28,
   "metadata": {},
   "outputs": [],
   "source": [
    "df_kaggle_XGB = df_kaggle_XGB[['time', 'temp', 'el_price', 'coco']].dropna()\n",
    "\n",
    "df_kaggle_XGB['hour'] = df_kaggle_XGB['time'].apply(lambda x: dt.strptime(str(x), \"%Y-%m-%d %H:%M:%S%z\").hour)\n",
    "df_kaggle_XGB['month'] = df_kaggle_XGB['time'].apply(lambda x: dt.strptime(str(x), \"%Y-%m-%d %H:%M:%S%z\").month)\n",
    "\n",
    "df_kaggle_XGB = generate_cyclical_features(df_kaggle_XGB, 'hour', 24, 0)\n",
    "df_kaggle_XGB = generate_cyclical_features(df_kaggle_XGB, 'month', 12, 1)"
   ]
  },
  {
   "cell_type": "code",
   "execution_count": 29,
   "metadata": {},
   "outputs": [],
   "source": [
    "features = ['temp', 'el_price', 'coco', 'cos_hour', 'cos_month']\n",
    "df_X_kaggle_XGB = df_kaggle_XGB[features]"
   ]
  },
  {
   "cell_type": "code",
   "execution_count": 21,
   "metadata": {},
   "outputs": [
    {
     "name": "stdout",
     "output_type": "stream",
     "text": [
      "(8394, 11)\n",
      "(0, 11)\n",
      "(336, 11)\n"
     ]
    }
   ],
   "source": [
    "print(df_XGB.shape)\n",
    "test_days = 0\n",
    "train_days = 14 * 24\n",
    "\n",
    "test_df_XGB = df_XGB.iloc[df_XGB.shape[0]-test_days:] \n",
    "train_df_XGB = df_XGB.iloc[df_XGB.shape[0]-(test_days+train_days):df_XGB.shape[0]-test_days]\n",
    "print(test_df_XGB.shape)\n",
    "print(train_df_XGB.shape)"
   ]
  },
  {
   "cell_type": "code",
   "execution_count": 30,
   "metadata": {},
   "outputs": [],
   "source": [
    "features = ['temp', 'el_price', 'coco', 'cos_hour', 'cos_month']\n",
    "\n",
    "train_X_XGB = train_df_XGB[features]\n",
    "train_y_XGB = train_df_XGB['consumption']\n",
    "\n",
    "test_X_XGB = test_df_XGB[features]\n",
    "test_y_XGB = test_df_XGB['consumption'] "
   ]
  },
  {
   "cell_type": "code",
   "execution_count": 31,
   "metadata": {},
   "outputs": [
    {
     "data": {
      "text/html": [
       "<style>#sk-container-id-3 {color: black;background-color: white;}#sk-container-id-3 pre{padding: 0;}#sk-container-id-3 div.sk-toggleable {background-color: white;}#sk-container-id-3 label.sk-toggleable__label {cursor: pointer;display: block;width: 100%;margin-bottom: 0;padding: 0.3em;box-sizing: border-box;text-align: center;}#sk-container-id-3 label.sk-toggleable__label-arrow:before {content: \"▸\";float: left;margin-right: 0.25em;color: #696969;}#sk-container-id-3 label.sk-toggleable__label-arrow:hover:before {color: black;}#sk-container-id-3 div.sk-estimator:hover label.sk-toggleable__label-arrow:before {color: black;}#sk-container-id-3 div.sk-toggleable__content {max-height: 0;max-width: 0;overflow: hidden;text-align: left;background-color: #f0f8ff;}#sk-container-id-3 div.sk-toggleable__content pre {margin: 0.2em;color: black;border-radius: 0.25em;background-color: #f0f8ff;}#sk-container-id-3 input.sk-toggleable__control:checked~div.sk-toggleable__content {max-height: 200px;max-width: 100%;overflow: auto;}#sk-container-id-3 input.sk-toggleable__control:checked~label.sk-toggleable__label-arrow:before {content: \"▾\";}#sk-container-id-3 div.sk-estimator input.sk-toggleable__control:checked~label.sk-toggleable__label {background-color: #d4ebff;}#sk-container-id-3 div.sk-label input.sk-toggleable__control:checked~label.sk-toggleable__label {background-color: #d4ebff;}#sk-container-id-3 input.sk-hidden--visually {border: 0;clip: rect(1px 1px 1px 1px);clip: rect(1px, 1px, 1px, 1px);height: 1px;margin: -1px;overflow: hidden;padding: 0;position: absolute;width: 1px;}#sk-container-id-3 div.sk-estimator {font-family: monospace;background-color: #f0f8ff;border: 1px dotted black;border-radius: 0.25em;box-sizing: border-box;margin-bottom: 0.5em;}#sk-container-id-3 div.sk-estimator:hover {background-color: #d4ebff;}#sk-container-id-3 div.sk-parallel-item::after {content: \"\";width: 100%;border-bottom: 1px solid gray;flex-grow: 1;}#sk-container-id-3 div.sk-label:hover label.sk-toggleable__label {background-color: #d4ebff;}#sk-container-id-3 div.sk-serial::before {content: \"\";position: absolute;border-left: 1px solid gray;box-sizing: border-box;top: 0;bottom: 0;left: 50%;z-index: 0;}#sk-container-id-3 div.sk-serial {display: flex;flex-direction: column;align-items: center;background-color: white;padding-right: 0.2em;padding-left: 0.2em;position: relative;}#sk-container-id-3 div.sk-item {position: relative;z-index: 1;}#sk-container-id-3 div.sk-parallel {display: flex;align-items: stretch;justify-content: center;background-color: white;position: relative;}#sk-container-id-3 div.sk-item::before, #sk-container-id-3 div.sk-parallel-item::before {content: \"\";position: absolute;border-left: 1px solid gray;box-sizing: border-box;top: 0;bottom: 0;left: 50%;z-index: -1;}#sk-container-id-3 div.sk-parallel-item {display: flex;flex-direction: column;z-index: 1;position: relative;background-color: white;}#sk-container-id-3 div.sk-parallel-item:first-child::after {align-self: flex-end;width: 50%;}#sk-container-id-3 div.sk-parallel-item:last-child::after {align-self: flex-start;width: 50%;}#sk-container-id-3 div.sk-parallel-item:only-child::after {width: 0;}#sk-container-id-3 div.sk-dashed-wrapped {border: 1px dashed gray;margin: 0 0.4em 0.5em 0.4em;box-sizing: border-box;padding-bottom: 0.4em;background-color: white;}#sk-container-id-3 div.sk-label label {font-family: monospace;font-weight: bold;display: inline-block;line-height: 1.2em;}#sk-container-id-3 div.sk-label-container {text-align: center;}#sk-container-id-3 div.sk-container {/* jupyter's `normalize.less` sets `[hidden] { display: none; }` but bootstrap.min.css set `[hidden] { display: none !important; }` so we also need the `!important` here to be able to override the default hidden behavior on the sphinx rendered scikit-learn.org. See: https://github.com/scikit-learn/scikit-learn/issues/21755 */display: inline-block !important;position: relative;}#sk-container-id-3 div.sk-text-repr-fallback {display: none;}</style><div id=\"sk-container-id-3\" class=\"sk-top-container\"><div class=\"sk-text-repr-fallback\"><pre>GradientBoostingRegressor(learning_rate=0.02, n_estimators=200)</pre><b>In a Jupyter environment, please rerun this cell to show the HTML representation or trust the notebook. <br />On GitHub, the HTML representation is unable to render, please try loading this page with nbviewer.org.</b></div><div class=\"sk-container\" hidden><div class=\"sk-item\"><div class=\"sk-estimator sk-toggleable\"><input class=\"sk-toggleable__control sk-hidden--visually\" id=\"sk-estimator-id-3\" type=\"checkbox\" checked><label for=\"sk-estimator-id-3\" class=\"sk-toggleable__label sk-toggleable__label-arrow\">GradientBoostingRegressor</label><div class=\"sk-toggleable__content\"><pre>GradientBoostingRegressor(learning_rate=0.02, n_estimators=200)</pre></div></div></div></div></div>"
      ],
      "text/plain": [
       "GradientBoostingRegressor(learning_rate=0.02, n_estimators=200)"
      ]
     },
     "execution_count": 31,
     "metadata": {},
     "output_type": "execute_result"
    }
   ],
   "source": [
    "params = {\n",
    "    \"n_estimators\": 200,\n",
    "    \"max_depth\": 3,\n",
    "    \"min_samples_split\": 2,\n",
    "    \"learning_rate\": 0.02,\n",
    "    \"loss\": \"squared_error\",\n",
    "}\n",
    "model = GradientBoostingRegressor(**params)\n",
    "model.fit(train_X_XGB, train_y_XGB)"
   ]
  },
  {
   "cell_type": "code",
   "execution_count": 33,
   "metadata": {},
   "outputs": [],
   "source": [
    "pred = model.predict(df_X_kaggle_XGB)"
   ]
  },
  {
   "cell_type": "code",
   "execution_count": 38,
   "metadata": {},
   "outputs": [],
   "source": [
    "submissions = pd.DataFrame({'time': df_kaggle_XGB['time'], 'consumption': pred})\n",
    "submissions.to_csv('data/submissions_xgb.csv', index=False)"
   ]
  },
  {
   "cell_type": "code",
   "execution_count": 14,
   "metadata": {},
   "outputs": [
    {
     "data": {
      "text/html": [
       "<div>\n",
       "<style scoped>\n",
       "    .dataframe tbody tr th:only-of-type {\n",
       "        vertical-align: middle;\n",
       "    }\n",
       "\n",
       "    .dataframe tbody tr th {\n",
       "        vertical-align: top;\n",
       "    }\n",
       "\n",
       "    .dataframe thead th {\n",
       "        text-align: right;\n",
       "    }\n",
       "</style>\n",
       "<table border=\"1\" class=\"dataframe\">\n",
       "  <thead>\n",
       "    <tr style=\"text-align: right;\">\n",
       "      <th></th>\n",
       "      <th>time</th>\n",
       "      <th>consumption</th>\n",
       "    </tr>\n",
       "  </thead>\n",
       "  <tbody>\n",
       "    <tr>\n",
       "      <th>0</th>\n",
       "      <td>2022-08-18 00:00:00+03:00</td>\n",
       "      <td>0.406242</td>\n",
       "    </tr>\n",
       "    <tr>\n",
       "      <th>1</th>\n",
       "      <td>2022-08-18 01:00:00+03:00</td>\n",
       "      <td>0.392767</td>\n",
       "    </tr>\n",
       "    <tr>\n",
       "      <th>2</th>\n",
       "      <td>2022-08-18 02:00:00+03:00</td>\n",
       "      <td>0.407683</td>\n",
       "    </tr>\n",
       "    <tr>\n",
       "      <th>3</th>\n",
       "      <td>2022-08-18 03:00:00+03:00</td>\n",
       "      <td>0.355203</td>\n",
       "    </tr>\n",
       "    <tr>\n",
       "      <th>4</th>\n",
       "      <td>2022-08-18 04:00:00+03:00</td>\n",
       "      <td>0.406936</td>\n",
       "    </tr>\n",
       "    <tr>\n",
       "      <th>...</th>\n",
       "      <td>...</td>\n",
       "      <td>...</td>\n",
       "    </tr>\n",
       "    <tr>\n",
       "      <th>163</th>\n",
       "      <td>2022-08-24 19:00:00+03:00</td>\n",
       "      <td>0.926008</td>\n",
       "    </tr>\n",
       "    <tr>\n",
       "      <th>164</th>\n",
       "      <td>2022-08-24 20:00:00+03:00</td>\n",
       "      <td>0.875579</td>\n",
       "    </tr>\n",
       "    <tr>\n",
       "      <th>165</th>\n",
       "      <td>2022-08-24 21:00:00+03:00</td>\n",
       "      <td>0.890830</td>\n",
       "    </tr>\n",
       "    <tr>\n",
       "      <th>166</th>\n",
       "      <td>2022-08-24 22:00:00+03:00</td>\n",
       "      <td>0.818715</td>\n",
       "    </tr>\n",
       "    <tr>\n",
       "      <th>167</th>\n",
       "      <td>2022-08-24 23:00:00+03:00</td>\n",
       "      <td>0.819170</td>\n",
       "    </tr>\n",
       "  </tbody>\n",
       "</table>\n",
       "<p>168 rows × 2 columns</p>\n",
       "</div>"
      ],
      "text/plain": [
       "                          time  consumption\n",
       "0    2022-08-18 00:00:00+03:00     0.406242\n",
       "1    2022-08-18 01:00:00+03:00     0.392767\n",
       "2    2022-08-18 02:00:00+03:00     0.407683\n",
       "3    2022-08-18 03:00:00+03:00     0.355203\n",
       "4    2022-08-18 04:00:00+03:00     0.406936\n",
       "..                         ...          ...\n",
       "163  2022-08-24 19:00:00+03:00     0.926008\n",
       "164  2022-08-24 20:00:00+03:00     0.875579\n",
       "165  2022-08-24 21:00:00+03:00     0.890830\n",
       "166  2022-08-24 22:00:00+03:00     0.818715\n",
       "167  2022-08-24 23:00:00+03:00     0.819170\n",
       "\n",
       "[168 rows x 2 columns]"
      ]
     },
     "execution_count": 14,
     "metadata": {},
     "output_type": "execute_result"
    }
   ],
   "source": [
    "LR = pd.read_csv('data/best_LR_w_2_3_v2.csv')\n",
    "LR"
   ]
  },
  {
   "cell_type": "code",
   "execution_count": 18,
   "metadata": {},
   "outputs": [
    {
     "data": {
      "text/html": [
       "<div>\n",
       "<style scoped>\n",
       "    .dataframe tbody tr th:only-of-type {\n",
       "        vertical-align: middle;\n",
       "    }\n",
       "\n",
       "    .dataframe tbody tr th {\n",
       "        vertical-align: top;\n",
       "    }\n",
       "\n",
       "    .dataframe thead th {\n",
       "        text-align: right;\n",
       "    }\n",
       "</style>\n",
       "<table border=\"1\" class=\"dataframe\">\n",
       "  <thead>\n",
       "    <tr style=\"text-align: right;\">\n",
       "      <th></th>\n",
       "      <th>level_0</th>\n",
       "      <th>index</th>\n",
       "      <th>time</th>\n",
       "      <th>consumption</th>\n",
       "    </tr>\n",
       "  </thead>\n",
       "  <tbody>\n",
       "    <tr>\n",
       "      <th>0</th>\n",
       "      <td>0</td>\n",
       "      <td>8424</td>\n",
       "      <td>2022-08-18 00:00:00+03:00</td>\n",
       "      <td>0.245</td>\n",
       "    </tr>\n",
       "    <tr>\n",
       "      <th>1</th>\n",
       "      <td>1</td>\n",
       "      <td>8425</td>\n",
       "      <td>2022-08-18 01:00:00+03:00</td>\n",
       "      <td>0.178</td>\n",
       "    </tr>\n",
       "    <tr>\n",
       "      <th>2</th>\n",
       "      <td>2</td>\n",
       "      <td>8426</td>\n",
       "      <td>2022-08-18 02:00:00+03:00</td>\n",
       "      <td>0.203</td>\n",
       "    </tr>\n",
       "    <tr>\n",
       "      <th>3</th>\n",
       "      <td>3</td>\n",
       "      <td>8427</td>\n",
       "      <td>2022-08-18 03:00:00+03:00</td>\n",
       "      <td>0.215</td>\n",
       "    </tr>\n",
       "    <tr>\n",
       "      <th>4</th>\n",
       "      <td>4</td>\n",
       "      <td>8428</td>\n",
       "      <td>2022-08-18 04:00:00+03:00</td>\n",
       "      <td>1.043</td>\n",
       "    </tr>\n",
       "    <tr>\n",
       "      <th>...</th>\n",
       "      <td>...</td>\n",
       "      <td>...</td>\n",
       "      <td>...</td>\n",
       "      <td>...</td>\n",
       "    </tr>\n",
       "    <tr>\n",
       "      <th>163</th>\n",
       "      <td>163</td>\n",
       "      <td>8587</td>\n",
       "      <td>2022-08-24 19:00:00+03:00</td>\n",
       "      <td>0.678</td>\n",
       "    </tr>\n",
       "    <tr>\n",
       "      <th>164</th>\n",
       "      <td>164</td>\n",
       "      <td>8588</td>\n",
       "      <td>2022-08-24 20:00:00+03:00</td>\n",
       "      <td>0.457</td>\n",
       "    </tr>\n",
       "    <tr>\n",
       "      <th>165</th>\n",
       "      <td>165</td>\n",
       "      <td>8589</td>\n",
       "      <td>2022-08-24 21:00:00+03:00</td>\n",
       "      <td>0.500</td>\n",
       "    </tr>\n",
       "    <tr>\n",
       "      <th>166</th>\n",
       "      <td>166</td>\n",
       "      <td>8590</td>\n",
       "      <td>2022-08-24 22:00:00+03:00</td>\n",
       "      <td>2.321</td>\n",
       "    </tr>\n",
       "    <tr>\n",
       "      <th>167</th>\n",
       "      <td>167</td>\n",
       "      <td>8591</td>\n",
       "      <td>2022-08-24 23:00:00+03:00</td>\n",
       "      <td>0.678</td>\n",
       "    </tr>\n",
       "  </tbody>\n",
       "</table>\n",
       "<p>168 rows × 4 columns</p>\n",
       "</div>"
      ],
      "text/plain": [
       "     level_0  index                       time  consumption\n",
       "0          0   8424  2022-08-18 00:00:00+03:00        0.245\n",
       "1          1   8425  2022-08-18 01:00:00+03:00        0.178\n",
       "2          2   8426  2022-08-18 02:00:00+03:00        0.203\n",
       "3          3   8427  2022-08-18 03:00:00+03:00        0.215\n",
       "4          4   8428  2022-08-18 04:00:00+03:00        1.043\n",
       "..       ...    ...                        ...          ...\n",
       "163      163   8587  2022-08-24 19:00:00+03:00        0.678\n",
       "164      164   8588  2022-08-24 20:00:00+03:00        0.457\n",
       "165      165   8589  2022-08-24 21:00:00+03:00        0.500\n",
       "166      166   8590  2022-08-24 22:00:00+03:00        2.321\n",
       "167      167   8591  2022-08-24 23:00:00+03:00        0.678\n",
       "\n",
       "[168 rows x 4 columns]"
      ]
     },
     "execution_count": 18,
     "metadata": {},
     "output_type": "execute_result"
    }
   ],
   "source": [
    "y_true.reset_index(inplace=True)\n",
    "y_true"
   ]
  },
  {
   "cell_type": "code",
   "execution_count": 20,
   "metadata": {},
   "outputs": [
    {
     "data": {
      "text/plain": [
       "0.36508137344936176"
      ]
     },
     "execution_count": 20,
     "metadata": {},
     "output_type": "execute_result"
    }
   ],
   "source": [
    "mean_absolute_error(y_true[['consumption']], LR[['consumption']])"
   ]
  },
  {
   "cell_type": "code",
   "execution_count": null,
   "metadata": {},
   "outputs": [],
   "source": []
  }
 ],
 "metadata": {
  "kernelspec": {
   "display_name": "ML",
   "language": "python",
   "name": "python3"
  },
  "language_info": {
   "codemirror_mode": {
    "name": "ipython",
    "version": 3
   },
   "file_extension": ".py",
   "mimetype": "text/x-python",
   "name": "python",
   "nbconvert_exporter": "python",
   "pygments_lexer": "ipython3",
   "version": "3.9.13"
  },
  "orig_nbformat": 4,
  "vscode": {
   "interpreter": {
    "hash": "a83240a613a9350b8403387a6228805ec14d9bf39983b51aee6d2660465ad0da"
   }
  }
 },
 "nbformat": 4,
 "nbformat_minor": 2
}
