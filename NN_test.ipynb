{
  "nbformat": 4,
  "nbformat_minor": 0,
  "metadata": {
    "colab": {
      "provenance": [],
      "collapsed_sections": [
        "n2aNJb0wCrcA"
      ],
      "authorship_tag": "ABX9TyOW86IFff2sWFjvaNerY/yC",
      "include_colab_link": true
    },
    "kernelspec": {
      "name": "python3",
      "display_name": "Python 3"
    },
    "language_info": {
      "name": "python"
    }
  },
  "cells": [
    {
      "cell_type": "markdown",
      "metadata": {
        "id": "view-in-github",
        "colab_type": "text"
      },
      "source": [
        "<a href=\"https://colab.research.google.com/github/markoraidlo/T14-Journey-to-zero/blob/main/NN_test.ipynb\" target=\"_parent\"><img src=\"https://colab.research.google.com/assets/colab-badge.svg\" alt=\"Open In Colab\"/></a>"
      ]
    },
    {
      "cell_type": "code",
      "source": [
        "import pandas as pd\n",
        "import numpy as np\n",
        "import matplotlib.pyplot as plt\n",
        "\n",
        "\n",
        "import pickle"
      ],
      "metadata": {
        "id": "vajb9LHWDhoc"
      },
      "execution_count": null,
      "outputs": []
    },
    {
      "cell_type": "markdown",
      "source": [
        "## Kaggle"
      ],
      "metadata": {
        "id": "n2aNJb0wCrcA"
      }
    },
    {
      "cell_type": "code",
      "execution_count": null,
      "metadata": {
        "colab": {
          "base_uri": "https://localhost:8080/",
          "height": 74
        },
        "id": "aaUwlqJPCjCq",
        "outputId": "5a40f11f-f340-414e-c1c9-248cbd0fbd5e"
      },
      "outputs": [
        {
          "output_type": "display_data",
          "data": {
            "text/plain": [
              "<IPython.core.display.HTML object>"
            ],
            "text/html": [
              "\n",
              "     <input type=\"file\" id=\"files-887448cb-4900-453b-b2c7-98aa5ee69ebe\" name=\"files[]\" multiple disabled\n",
              "        style=\"border:none\" />\n",
              "     <output id=\"result-887448cb-4900-453b-b2c7-98aa5ee69ebe\">\n",
              "      Upload widget is only available when the cell has been executed in the\n",
              "      current browser session. Please rerun this cell to enable.\n",
              "      </output>\n",
              "      <script>// Copyright 2017 Google LLC\n",
              "//\n",
              "// Licensed under the Apache License, Version 2.0 (the \"License\");\n",
              "// you may not use this file except in compliance with the License.\n",
              "// You may obtain a copy of the License at\n",
              "//\n",
              "//      http://www.apache.org/licenses/LICENSE-2.0\n",
              "//\n",
              "// Unless required by applicable law or agreed to in writing, software\n",
              "// distributed under the License is distributed on an \"AS IS\" BASIS,\n",
              "// WITHOUT WARRANTIES OR CONDITIONS OF ANY KIND, either express or implied.\n",
              "// See the License for the specific language governing permissions and\n",
              "// limitations under the License.\n",
              "\n",
              "/**\n",
              " * @fileoverview Helpers for google.colab Python module.\n",
              " */\n",
              "(function(scope) {\n",
              "function span(text, styleAttributes = {}) {\n",
              "  const element = document.createElement('span');\n",
              "  element.textContent = text;\n",
              "  for (const key of Object.keys(styleAttributes)) {\n",
              "    element.style[key] = styleAttributes[key];\n",
              "  }\n",
              "  return element;\n",
              "}\n",
              "\n",
              "// Max number of bytes which will be uploaded at a time.\n",
              "const MAX_PAYLOAD_SIZE = 100 * 1024;\n",
              "\n",
              "function _uploadFiles(inputId, outputId) {\n",
              "  const steps = uploadFilesStep(inputId, outputId);\n",
              "  const outputElement = document.getElementById(outputId);\n",
              "  // Cache steps on the outputElement to make it available for the next call\n",
              "  // to uploadFilesContinue from Python.\n",
              "  outputElement.steps = steps;\n",
              "\n",
              "  return _uploadFilesContinue(outputId);\n",
              "}\n",
              "\n",
              "// This is roughly an async generator (not supported in the browser yet),\n",
              "// where there are multiple asynchronous steps and the Python side is going\n",
              "// to poll for completion of each step.\n",
              "// This uses a Promise to block the python side on completion of each step,\n",
              "// then passes the result of the previous step as the input to the next step.\n",
              "function _uploadFilesContinue(outputId) {\n",
              "  const outputElement = document.getElementById(outputId);\n",
              "  const steps = outputElement.steps;\n",
              "\n",
              "  const next = steps.next(outputElement.lastPromiseValue);\n",
              "  return Promise.resolve(next.value.promise).then((value) => {\n",
              "    // Cache the last promise value to make it available to the next\n",
              "    // step of the generator.\n",
              "    outputElement.lastPromiseValue = value;\n",
              "    return next.value.response;\n",
              "  });\n",
              "}\n",
              "\n",
              "/**\n",
              " * Generator function which is called between each async step of the upload\n",
              " * process.\n",
              " * @param {string} inputId Element ID of the input file picker element.\n",
              " * @param {string} outputId Element ID of the output display.\n",
              " * @return {!Iterable<!Object>} Iterable of next steps.\n",
              " */\n",
              "function* uploadFilesStep(inputId, outputId) {\n",
              "  const inputElement = document.getElementById(inputId);\n",
              "  inputElement.disabled = false;\n",
              "\n",
              "  const outputElement = document.getElementById(outputId);\n",
              "  outputElement.innerHTML = '';\n",
              "\n",
              "  const pickedPromise = new Promise((resolve) => {\n",
              "    inputElement.addEventListener('change', (e) => {\n",
              "      resolve(e.target.files);\n",
              "    });\n",
              "  });\n",
              "\n",
              "  const cancel = document.createElement('button');\n",
              "  inputElement.parentElement.appendChild(cancel);\n",
              "  cancel.textContent = 'Cancel upload';\n",
              "  const cancelPromise = new Promise((resolve) => {\n",
              "    cancel.onclick = () => {\n",
              "      resolve(null);\n",
              "    };\n",
              "  });\n",
              "\n",
              "  // Wait for the user to pick the files.\n",
              "  const files = yield {\n",
              "    promise: Promise.race([pickedPromise, cancelPromise]),\n",
              "    response: {\n",
              "      action: 'starting',\n",
              "    }\n",
              "  };\n",
              "\n",
              "  cancel.remove();\n",
              "\n",
              "  // Disable the input element since further picks are not allowed.\n",
              "  inputElement.disabled = true;\n",
              "\n",
              "  if (!files) {\n",
              "    return {\n",
              "      response: {\n",
              "        action: 'complete',\n",
              "      }\n",
              "    };\n",
              "  }\n",
              "\n",
              "  for (const file of files) {\n",
              "    const li = document.createElement('li');\n",
              "    li.append(span(file.name, {fontWeight: 'bold'}));\n",
              "    li.append(span(\n",
              "        `(${file.type || 'n/a'}) - ${file.size} bytes, ` +\n",
              "        `last modified: ${\n",
              "            file.lastModifiedDate ? file.lastModifiedDate.toLocaleDateString() :\n",
              "                                    'n/a'} - `));\n",
              "    const percent = span('0% done');\n",
              "    li.appendChild(percent);\n",
              "\n",
              "    outputElement.appendChild(li);\n",
              "\n",
              "    const fileDataPromise = new Promise((resolve) => {\n",
              "      const reader = new FileReader();\n",
              "      reader.onload = (e) => {\n",
              "        resolve(e.target.result);\n",
              "      };\n",
              "      reader.readAsArrayBuffer(file);\n",
              "    });\n",
              "    // Wait for the data to be ready.\n",
              "    let fileData = yield {\n",
              "      promise: fileDataPromise,\n",
              "      response: {\n",
              "        action: 'continue',\n",
              "      }\n",
              "    };\n",
              "\n",
              "    // Use a chunked sending to avoid message size limits. See b/62115660.\n",
              "    let position = 0;\n",
              "    do {\n",
              "      const length = Math.min(fileData.byteLength - position, MAX_PAYLOAD_SIZE);\n",
              "      const chunk = new Uint8Array(fileData, position, length);\n",
              "      position += length;\n",
              "\n",
              "      const base64 = btoa(String.fromCharCode.apply(null, chunk));\n",
              "      yield {\n",
              "        response: {\n",
              "          action: 'append',\n",
              "          file: file.name,\n",
              "          data: base64,\n",
              "        },\n",
              "      };\n",
              "\n",
              "      let percentDone = fileData.byteLength === 0 ?\n",
              "          100 :\n",
              "          Math.round((position / fileData.byteLength) * 100);\n",
              "      percent.textContent = `${percentDone}% done`;\n",
              "\n",
              "    } while (position < fileData.byteLength);\n",
              "  }\n",
              "\n",
              "  // All done.\n",
              "  yield {\n",
              "    response: {\n",
              "      action: 'complete',\n",
              "    }\n",
              "  };\n",
              "}\n",
              "\n",
              "scope.google = scope.google || {};\n",
              "scope.google.colab = scope.google.colab || {};\n",
              "scope.google.colab._files = {\n",
              "  _uploadFiles,\n",
              "  _uploadFilesContinue,\n",
              "};\n",
              "})(self);\n",
              "</script> "
            ]
          },
          "metadata": {}
        },
        {
          "output_type": "stream",
          "name": "stdout",
          "text": [
            "Saving kaggle.json to kaggle.json\n"
          ]
        }
      ],
      "source": [
        "# Kaggle setuo\n",
        "from google.colab import files\n",
        "\n",
        "files.upload(); # upload kaggle.json file"
      ]
    },
    {
      "cell_type": "code",
      "source": [
        "import json\n",
        "\n",
        "# Use kaggle.json file\n",
        "!mkdir /root/.kaggle/\n",
        "!mv kaggle.json /root/.kaggle/kaggle.json\n",
        "!chmod 600 ~/.kaggle/kaggle.json\n",
        "!kaggle config set -n path -v{/content}"
      ],
      "metadata": {
        "colab": {
          "base_uri": "https://localhost:8080/"
        },
        "id": "GHBh4_O-DJwK",
        "outputId": "c5cffd3a-833b-482a-a34b-a3ca931ae3a0"
      },
      "execution_count": null,
      "outputs": [
        {
          "output_type": "stream",
          "name": "stdout",
          "text": [
            "- path is now set to: {/content}\n"
          ]
        }
      ]
    },
    {
      "cell_type": "code",
      "source": [
        "!kaggle competitions download -c 'predict-electricity-consumption' -w"
      ],
      "metadata": {
        "colab": {
          "base_uri": "https://localhost:8080/"
        },
        "id": "DsE9-t7VDJyg",
        "outputId": "508411cc-3314-418e-e307-2b9570b207aa"
      },
      "execution_count": null,
      "outputs": [
        {
          "output_type": "stream",
          "name": "stdout",
          "text": [
            "Downloading predict-electricity-consumption.zip to .\n",
            "100% 174k/174k [00:00<00:00, 515kB/s]\n",
            "100% 174k/174k [00:00<00:00, 514kB/s]\n"
          ]
        }
      ]
    },
    {
      "cell_type": "code",
      "source": [
        "!unzip predict-electricity-consumption.zip"
      ],
      "metadata": {
        "colab": {
          "base_uri": "https://localhost:8080/"
        },
        "id": "3cV0j3khDOSq",
        "outputId": "20ec90b7-ea5d-4571-911f-a16971e1fc1e"
      },
      "execution_count": null,
      "outputs": [
        {
          "output_type": "stream",
          "name": "stdout",
          "text": [
            "Archive:  predict-electricity-consumption.zip\n",
            "  inflating: sample_submission.csv   \n",
            "  inflating: test.csv                \n",
            "  inflating: train.csv               \n"
          ]
        }
      ]
    },
    {
      "cell_type": "markdown",
      "source": [
        "## Preprocessing"
      ],
      "metadata": {
        "id": "sh9FnoGLCryo"
      }
    },
    {
      "cell_type": "code",
      "source": [
        "from sklearn import preprocessing\n",
        "import pandas as pd\n",
        "\n",
        "def preprocess(trainDF, testDF, previous_hours=None):\n",
        "  \"\"\" Take train and test datasets at the same time\n",
        "  \"\"\"\n",
        "\n",
        "  # Remove row if consumption is NaN\n",
        "  # (Only for training data)\n",
        "  trainDF = trainDF.dropna(subset=['consumption'])\n",
        "\n",
        "  \n",
        "  # scaler for consumption\n",
        "  normScaler = preprocessing.MinMaxScaler()\n",
        "  normScaler.fit(trainDF[['consumption']])\n",
        "  trainDF['consumption'] = normScaler.transform(trainDF[['consumption']])\n",
        "\n",
        "  # Add n previous hour features\n",
        "  if previous_hours:\n",
        "    for i in range(1, previous_hours+1):\n",
        "      trainDF['{}cons'.format(i)] = trainDF.consumption.shift(i)\n",
        "    \n",
        "    # Cut out first n rows with NaNs\n",
        "    trainDF = trainDF[previous_hours:]\n",
        "\n",
        "  # All remaning NaNs replaced with 0\n",
        "  trainDF = trainDF.fillna(0)\n",
        "  testDF = testDF.fillna(0)\n",
        "\n",
        "  # Get weekday, month and hour of day\n",
        "  trainDF['time'] = pd.to_datetime(trainDF.time, utc=True)\n",
        "  trainDF['time'] = trainDF['time'].dt.tz_convert('Europe/Tallinn')\n",
        "  trainDF['day'] = trainDF['time'].dt.weekday\n",
        "  trainDF['month'] = trainDF['time'].dt.month\n",
        "  trainDF['hour'] = trainDF['time'].dt.hour\n",
        "\n",
        "  testDF['time'] = pd.to_datetime(testDF.time, utc=True)\n",
        "  testDF['time'] = testDF['time'].dt.tz_convert('Europe/Tallinn')\n",
        "  testDF['day'] = testDF['time'].dt.weekday\n",
        "  testDF['month'] = testDF['time'].dt.month\n",
        "  testDF['hour'] = testDF['time'].dt.hour\n",
        "\n",
        "  # Normalization\n",
        "  colList = ['temp', 'dwpt','rhum', 'wdir', 'wspd', 'wpgt', 'pres', 'el_price']\n",
        "\n",
        "  for col in colList:\n",
        "    scaler = preprocessing.MinMaxScaler()\n",
        "    normCol = scaler.fit_transform(trainDF[[col]])\n",
        "    trainDF[col] = normCol\n",
        "    testDF[col] = scaler.transform(testDF[[col]])\n",
        "\n",
        "  # One hot encoding days\n",
        "  onehot_days = pd.get_dummies(trainDF['day'])\n",
        "  onehot_days = onehot_days.set_axis(['Monday', 'Tuesday', 'Wendesday', \n",
        "                                      'Thursday', 'Friday', 'Saturday', 'Sunday'], axis=1)\n",
        "  trainDF = trainDF.join(onehot_days)\n",
        "\n",
        "  onehot_days = pd.get_dummies(testDF['day'])\n",
        "  onehot_days = onehot_days.set_axis(['Monday', 'Tuesday', 'Wendesday', \n",
        "                                      'Thursday', 'Friday', 'Saturday', 'Sunday'], axis=1)\n",
        "  testDF = testDF.join(onehot_days)\n",
        "  \n",
        "  # One hot encoding days\n",
        "  onehot_hours = pd.get_dummies(trainDF['hour'])\n",
        "  hour_cols = [\"{}hour\".format(i) for i in range(24)]\n",
        "  onehot_hours = onehot_hours.set_axis(hour_cols, axis=1)\n",
        "  trainDF = trainDF.join(onehot_hours)\n",
        "\n",
        "  onehot_hours = pd.get_dummies(testDF['hour'])\n",
        "  onehot_hours = onehot_hours.set_axis(hour_cols, axis=1)\n",
        "  testDF = testDF.join(onehot_hours)\n",
        "\n",
        "\n",
        "  #TODO: Onehot months\n",
        "  #TODO: Onehot coco\n",
        "\n",
        "  # If one-hot vecencodingtor is done remove:\n",
        "  scaler = preprocessing.MinMaxScaler()\n",
        "  normCol = scaler.fit_transform(trainDF[['month']])\n",
        "  trainDF['month'] = normCol\n",
        "  testDF['month'] = scaler.transform(testDF[['month']])\n",
        "\n",
        "  # Sin and cos of hours and days\n",
        "  trainDF['sin_hour'] = np.sin(2*np.pi*(trainDF['hour'])/24)\n",
        "  trainDF['cos_hour'] = np.cos(2*np.pi*(trainDF['hour'])/24)   \n",
        "  trainDF['sin_day'] = np.sin(2*np.pi*(trainDF['day'])/7)\n",
        "  trainDF['cos_day'] = np.cos(2*np.pi*(trainDF['day'])/7) \n",
        "\n",
        "  testDF['sin_hour'] = np.sin(2*np.pi*(testDF['hour'])/24)\n",
        "  testDF['cos_hour'] = np.cos(2*np.pi*(testDF['hour'])/24)   \n",
        "  testDF['sin_day'] = np.sin(2*np.pi*(testDF['day'])/7)\n",
        "  testDF['cos_day'] = np.cos(2*np.pi*(testDF['day'])/7) \n",
        "\n",
        "\n",
        "  trainDF = trainDF.drop(columns=['day', 'hour', 'coco'])\n",
        "  testDF = testDF.drop(columns=['day', 'hour', 'coco'])\n",
        "  # And add:\n",
        "  #processedDataFrame = dataFrame.drop(columns=['day', 'month', 'hour']\n",
        "\n",
        "  return trainDF, testDF, normScaler"
      ],
      "metadata": {
        "id": "t65oZ6uxCmBO"
      },
      "execution_count": null,
      "outputs": []
    },
    {
      "cell_type": "code",
      "source": [
        "train =  pd.read_csv('train.csv')\n",
        "test =  pd.read_csv('test.csv')"
      ],
      "metadata": {
        "id": "QVXeH-n3Dj5L"
      },
      "execution_count": null,
      "outputs": []
    },
    {
      "cell_type": "code",
      "source": [
        "pro_train, pro_test, normScaler = preprocess(train ,test, 24)"
      ],
      "metadata": {
        "colab": {
          "base_uri": "https://localhost:8080/"
        },
        "id": "cJWli0sKIDQ5",
        "outputId": "aed6d244-2dd9-404e-bf17-729cea9a714b"
      },
      "execution_count": null,
      "outputs": [
        {
          "output_type": "stream",
          "name": "stderr",
          "text": [
            "/usr/local/lib/python3.7/dist-packages/ipykernel_launcher.py:16: SettingWithCopyWarning: \n",
            "A value is trying to be set on a copy of a slice from a DataFrame.\n",
            "Try using .loc[row_indexer,col_indexer] = value instead\n",
            "\n",
            "See the caveats in the documentation: https://pandas.pydata.org/pandas-docs/stable/user_guide/indexing.html#returning-a-view-versus-a-copy\n",
            "  app.launch_new_instance()\n",
            "/usr/local/lib/python3.7/dist-packages/ipykernel_launcher.py:21: SettingWithCopyWarning: \n",
            "A value is trying to be set on a copy of a slice from a DataFrame.\n",
            "Try using .loc[row_indexer,col_indexer] = value instead\n",
            "\n",
            "See the caveats in the documentation: https://pandas.pydata.org/pandas-docs/stable/user_guide/indexing.html#returning-a-view-versus-a-copy\n"
          ]
        }
      ]
    },
    {
      "cell_type": "markdown",
      "source": [
        "## Consumption shift predictions"
      ],
      "metadata": {
        "id": "JaYhTy80Jm5Q"
      }
    },
    {
      "cell_type": "code",
      "source": [
        "from sklearn.neural_network import MLPRegressor\n",
        "from sklearn.model_selection import train_test_split\n",
        "from sklearn.metrics import mean_squared_error"
      ],
      "metadata": {
        "id": "jYcJUGCZJmQE"
      },
      "execution_count": null,
      "outputs": []
    },
    {
      "cell_type": "code",
      "source": [
        "pro_train.columns"
      ],
      "metadata": {
        "colab": {
          "base_uri": "https://localhost:8080/"
        },
        "id": "N-0uD6dkQ-_T",
        "outputId": "cd0ab3fa-6613-4b8f-8712-6d2201f7a5ab"
      },
      "execution_count": null,
      "outputs": [
        {
          "output_type": "execute_result",
          "data": {
            "text/plain": [
              "Index(['time', 'temp', 'dwpt', 'rhum', 'prcp', 'snow', 'wdir', 'wspd', 'wpgt',\n",
              "       'pres', 'el_price', 'consumption', '1cons', '2cons', '3cons', '4cons',\n",
              "       '5cons', '6cons', '7cons', '8cons', '9cons', '10cons', '11cons',\n",
              "       '12cons', '13cons', '14cons', '15cons', '16cons', '17cons', '18cons',\n",
              "       '19cons', '20cons', '21cons', '22cons', '23cons', '24cons', 'month',\n",
              "       'Monday', 'Tuesday', 'Wendesday', 'Thursday', 'Friday', 'Saturday',\n",
              "       'Sunday', '0hour', '1hour', '2hour', '3hour', '4hour', '5hour', '6hour',\n",
              "       '7hour', '8hour', '9hour', '10hour', '11hour', '12hour', '13hour',\n",
              "       '14hour', '15hour', '16hour', '17hour', '18hour', '19hour', '20hour',\n",
              "       '21hour', '22hour', '23hour', 'sin_hour', 'cos_hour', 'sin_day',\n",
              "       'cos_day'],\n",
              "      dtype='object')"
            ]
          },
          "metadata": {},
          "execution_count": 72
        }
      ]
    },
    {
      "cell_type": "code",
      "source": [
        "X = pro_train[['temp', 'dwpt', 'rhum', 'prcp', 'snow', 'wdir', 'wspd', 'wpgt',\n",
        "       'pres', 'el_price', 'month',\n",
        "       'Monday', 'Tuesday', 'Wendesday', 'Thursday', 'Friday', 'Saturday',\n",
        "       'Sunday', '0hour', '1hour', '2hour', '3hour', '4hour', '5hour', '6hour',\n",
        "       '7hour', '8hour', '9hour', '10hour', '11hour', '12hour', '13hour',\n",
        "       '14hour', '15hour', '16hour', '17hour', '18hour', '19hour', '20hour',\n",
        "       '21hour', '22hour', '23hour', 'sin_hour', 'cos_hour', 'sin_day',\n",
        "       'cos_day', '1cons', '2cons', '3cons', '4cons',\n",
        "       '5cons', '6cons', '7cons', '8cons', '9cons', '10cons', '11cons',\n",
        "       '12cons', '13cons', '14cons', '15cons', '16cons', '17cons', '18cons',\n",
        "       '19cons', '20cons', '21cons', '22cons', '23cons', '24cons']]\n",
        "y = pro_train[['consumption']].values\n",
        "\n",
        "X_train, X_test, y_train, y_test = train_test_split(X, y, train_size = 0.9, shuffle=False)\n",
        "\n",
        "neural_net = MLPRegressor(max_iter=1000000,\n",
        "                         solver = 'adam',\n",
        "                         activation = 'relu').fit(X_train, y_train.ravel())\n"
      ],
      "metadata": {
        "id": "bHkpojjTIgJh"
      },
      "execution_count": null,
      "outputs": []
    },
    {
      "cell_type": "code",
      "source": [
        "import warnings\n",
        "warnings.filterwarnings(\"ignore\", category=FutureWarning)\n",
        "warnings.filterwarnings(\"ignore\", category=UserWarning)"
      ],
      "metadata": {
        "id": "FZ6QehJEP4gy"
      },
      "execution_count": null,
      "outputs": []
    },
    {
      "cell_type": "code",
      "source": [
        "X_test = pro_test[['temp', 'dwpt', 'rhum', 'prcp', 'snow', 'wdir', 'wspd', 'wpgt',\n",
        "       'pres', 'el_price', 'month',\n",
        "       'Monday', 'Tuesday', 'Wendesday', 'Thursday', 'Friday', 'Saturday',\n",
        "       'Sunday', '0hour', '1hour', '2hour', '3hour', '4hour', '5hour', '6hour',\n",
        "       '7hour', '8hour', '9hour', '10hour', '11hour', '12hour', '13hour',\n",
        "       '14hour', '15hour', '16hour', '17hour', '18hour', '19hour', '20hour',\n",
        "       '21hour', '22hour', '23hour', 'sin_hour', 'cos_hour', 'sin_day',\n",
        "       'cos_day']]\n",
        "\n",
        "test_pred = np.zeros(len(pro_test))\n",
        "previous = pro_train.iloc[-1][['1cons', '2cons', '3cons', '4cons', '5cons', '6cons', '7cons',\n",
        "                    '8cons', '9cons', '10cons', '11cons', '12cons', '13cons', '14cons',\n",
        "                  '15cons', '16cons', '17cons', '18cons', '19cons', '20cons', '21cons',\n",
        "                  '22cons', '23cons', '24cons']]\n",
        "\n",
        "\n",
        "for i in range(len(pro_test)):\n",
        "  prediction = neural_net.predict([X_test.iloc[i].append(previous)])\n",
        "  test_pred[i] = prediction\n",
        "  previous = previous.shift(1)\n",
        "  previous[0] = prediction\n",
        "\n",
        "#test_pred\n",
        "pred = normScaler.inverse_transform([test_pred])\n",
        "pred"
      ],
      "metadata": {
        "colab": {
          "base_uri": "https://localhost:8080/"
        },
        "id": "7t5ybPuwKJIN",
        "outputId": "a404a98c-c5d7-4e73-e04f-53b208b8f392"
      },
      "execution_count": null,
      "outputs": [
        {
          "output_type": "execute_result",
          "data": {
            "text/plain": [
              "array([[ 1.58200755e+00,  3.09503681e-01,  4.03202570e-02,\n",
              "        -4.66911354e-02, -2.06949764e-02, -3.22818493e-01,\n",
              "        -3.03763779e-01,  2.99231463e-01, -6.29356490e-03,\n",
              "         7.65755646e-02, -1.74228453e-01, -2.58424729e-01,\n",
              "        -6.95910249e-02,  5.58130882e-02,  4.48971390e-01,\n",
              "        -3.26527700e-01, -2.27573674e-01,  2.62329498e-02,\n",
              "        -2.11848481e-01,  4.37403896e-01,  2.19926291e-01,\n",
              "         4.82708119e-01,  1.00781899e-01, -3.55135203e-01,\n",
              "         1.11602186e-01, -1.05135412e-01,  4.52881181e-01,\n",
              "         6.00802037e-01,  8.76154370e-01,  2.17683946e-01,\n",
              "        -2.91576689e-01, -5.10804802e-02,  1.10881832e-01,\n",
              "        -1.71445806e-03, -4.98585965e-01, -8.19985515e-01,\n",
              "        -8.42683548e-01, -9.95730527e-01, -4.74059860e-01,\n",
              "        -5.23744411e-01, -5.96607549e-01,  2.32441295e-01,\n",
              "         3.41090319e-01,  3.82465344e-01,  1.32537150e-01,\n",
              "        -1.83695258e-01,  2.12451710e-01,  1.64726582e-01,\n",
              "         4.83921877e-01,  5.23214875e-01,  3.41146458e-01,\n",
              "         1.70004857e-01,  1.80921691e-01, -1.19082777e-02,\n",
              "        -4.98318365e-01, -4.72364852e-01, -5.40800581e-01,\n",
              "        -1.65348177e-01,  1.17209100e-01, -2.72903521e-01,\n",
              "         1.80914717e-01,  2.84481432e-01,  7.78012081e-01,\n",
              "         1.17413099e+00,  1.06680792e+00,  1.31447717e+00,\n",
              "         9.34474704e-01,  8.48313109e-01,  4.85786984e-01,\n",
              "         1.13720038e-01,  2.71403414e-01,  1.10283770e-01,\n",
              "        -4.65967963e-01, -7.39592024e-01, -6.15685067e-01,\n",
              "        -2.65909712e-01, -3.51359025e-03, -3.21609199e-01,\n",
              "        -6.23820726e-01,  3.32075704e-01,  4.47491560e-01,\n",
              "         5.13715858e-01,  3.35135583e-01,  1.15332094e-01,\n",
              "        -6.13901149e-01, -5.73739865e-01, -4.99334340e-01,\n",
              "        -6.24397747e-01, -1.25000640e-01,  2.41573961e-01,\n",
              "         4.20337049e-01,  6.12028181e-01,  4.77402753e-01,\n",
              "         2.13648117e-01,  2.33824556e-01,  1.57530496e-02,\n",
              "         1.81071767e-01,  5.30633895e-01,  2.97008453e-01,\n",
              "         2.76708332e-01,  3.89052211e-01,  3.72770699e-01,\n",
              "         1.92849885e-01,  7.63051621e-02,  6.91706396e-02,\n",
              "         3.57691438e-01, -1.84014960e-01, -3.77819594e-01,\n",
              "        -8.80172116e-01, -1.05701050e+00, -5.51181156e-01,\n",
              "        -8.51921892e-01, -5.76322790e-01,  7.21052387e-01,\n",
              "         4.43461663e-01,  3.69405831e-01,  2.58654672e-01,\n",
              "         5.99078579e-01,  1.95850110e-01, -2.66272858e-02,\n",
              "         4.93993251e-01,  2.66391733e-01,  4.12545585e-01,\n",
              "         3.49662404e-01,  7.73779135e-01,  2.58349573e-01,\n",
              "         3.11778104e-01, -5.93746587e-01, -1.32269910e+00,\n",
              "        -2.49875408e+00, -2.75887174e+00, -3.39464221e+00,\n",
              "        -2.90356017e+00, -2.64299857e+00, -2.66964209e+00,\n",
              "        -4.15053617e+00, -1.72634834e+00, -4.27961776e-01,\n",
              "         3.10107772e-01,  9.72833929e-01,  1.75690670e+00,\n",
              "         1.83891873e+00,  1.49838853e+00,  1.40620519e+00,\n",
              "         9.60196897e-01,  1.18642079e+00,  9.31390554e-01,\n",
              "         9.33006741e-01,  1.41743381e+00,  1.66913738e+00,\n",
              "         6.08325810e-01,  1.47678009e-01, -1.77255348e-01,\n",
              "         8.19194648e-02, -6.18233217e-01, -4.65757311e-01,\n",
              "        -9.18663806e-01, -3.58937846e-01, -2.28619128e-01,\n",
              "        -3.30248836e-01, -1.72531507e-01,  9.29308985e-01,\n",
              "         9.96198199e-01,  5.81207579e-01,  5.91787049e-01,\n",
              "         8.75497950e-01,  9.13935753e-01,  7.18451823e-01]])"
            ]
          },
          "metadata": {},
          "execution_count": 82
        }
      ]
    },
    {
      "cell_type": "code",
      "source": [
        "submission = pd.DataFrame(\n",
        "    {'time': pro_test.time, 'consumption': pred[0]},\n",
        "    columns = ['time', 'consumption'])\n",
        "submission.to_csv('NN_multivar_submission.csv', index = False)"
      ],
      "metadata": {
        "id": "FxmOD7xTM3kw"
      },
      "execution_count": null,
      "outputs": []
    },
    {
      "cell_type": "code",
      "source": [
        "!kaggle competitions submit -c predict-electricity-consumption -f NN_multivar_submission.csv -m \"MLPRegressor with multivariable data.\""
      ],
      "metadata": {
        "colab": {
          "base_uri": "https://localhost:8080/"
        },
        "id": "g1bFY50hQpPv",
        "outputId": "c0b8b132-acdf-4df8-91dd-b20b659ed3ed"
      },
      "execution_count": null,
      "outputs": [
        {
          "output_type": "stream",
          "name": "stdout",
          "text": [
            "100% 7.52k/7.52k [00:02<00:00, 3.69kB/s]\n",
            "Successfully submitted to Journey to zero - Predict electricity consumption"
          ]
        }
      ]
    },
    {
      "cell_type": "markdown",
      "source": [
        "## Tensorflow: Long Short Term Memory model"
      ],
      "metadata": {
        "id": "kOzQP5VaSMIL"
      }
    },
    {
      "cell_type": "code",
      "source": [
        "import tensorflow as tf"
      ],
      "metadata": {
        "id": "F-kg-8PNSa2t"
      },
      "execution_count": null,
      "outputs": []
    },
    {
      "cell_type": "code",
      "source": [
        "X = pro_train[['temp', 'dwpt', 'rhum', 'prcp', 'snow', 'wdir', 'wspd', 'wpgt',\n",
        "       'pres', 'el_price', 'month',\n",
        "       'Monday', 'Tuesday', 'Wendesday', 'Thursday', 'Friday', 'Saturday',\n",
        "       'Sunday', '0hour', '1hour', '2hour', '3hour', '4hour', '5hour', '6hour',\n",
        "       '7hour', '8hour', '9hour', '10hour', '11hour', '12hour', '13hour',\n",
        "       '14hour', '15hour', '16hour', '17hour', '18hour', '19hour', '20hour',\n",
        "       '21hour', '22hour', '23hour', 'sin_hour', 'cos_hour', 'sin_day',\n",
        "       'cos_day']]\n",
        "y = pro_train[['consumption']].values\n",
        "\n",
        "X_train, X_test, y_train, y_test = train_test_split(X, y, train_size = 0.7, shuffle=False)"
      ],
      "metadata": {
        "id": "ndNoDO8pTnxU"
      },
      "execution_count": null,
      "outputs": []
    },
    {
      "cell_type": "code",
      "source": [
        "dataset_train = tf.keras.preprocessing.timeseries_dataset_from_array(\n",
        "    X_train,\n",
        "    y_train,\n",
        "    sequence_length=168,\n",
        "    sampling_rate=1,\n",
        "    sequence_stride=1\n",
        ")\n",
        "\n",
        "dataset_val = tf.keras.preprocessing.timeseries_dataset_from_array(\n",
        "    X_test,\n",
        "    y_test,\n",
        "    sequence_length=168,\n",
        "    sampling_rate=1,\n",
        "    sequence_stride=1\n",
        ")"
      ],
      "metadata": {
        "id": "zA5--BU4TWm1"
      },
      "execution_count": null,
      "outputs": []
    },
    {
      "cell_type": "code",
      "source": [
        "for batch in dataset_val.take(1):\n",
        "    inputs, targets = batch"
      ],
      "metadata": {
        "id": "j_knmCaHUyRr"
      },
      "execution_count": null,
      "outputs": []
    },
    {
      "cell_type": "code",
      "source": [
        "inputs = tf.keras.layers.Input(shape=(inputs.shape[1], inputs.shape[2]))\n",
        "lstm_out = tf.keras.layers.LSTM(32)(inputs)\n",
        "outputs = tf.keras.layers.Dense(1)(lstm_out)\n",
        "\n",
        "model = tf.keras.Model(inputs=inputs, outputs=outputs)\n",
        "model.compile(optimizer=tf.keras.optimizers.Adam(learning_rate=0.0001), loss=\"mse\")\n",
        "model.summary()"
      ],
      "metadata": {
        "colab": {
          "base_uri": "https://localhost:8080/"
        },
        "id": "XRhMvo58UQj4",
        "outputId": "8c1eddc9-38fa-42c8-9656-e79cd7788843"
      },
      "execution_count": null,
      "outputs": [
        {
          "output_type": "stream",
          "name": "stdout",
          "text": [
            "Model: \"model_5\"\n",
            "_________________________________________________________________\n",
            " Layer (type)                Output Shape              Param #   \n",
            "=================================================================\n",
            " input_6 (InputLayer)        [(None, 168, 46)]         0         \n",
            "                                                                 \n",
            " lstm_5 (LSTM)               (None, 32)                10112     \n",
            "                                                                 \n",
            " dense_5 (Dense)             (None, 1)                 33        \n",
            "                                                                 \n",
            "=================================================================\n",
            "Total params: 10,145\n",
            "Trainable params: 10,145\n",
            "Non-trainable params: 0\n",
            "_________________________________________________________________\n"
          ]
        }
      ]
    },
    {
      "cell_type": "code",
      "source": [
        "history = model.fit(\n",
        "    dataset_train,\n",
        "    epochs=20,\n",
        "    validation_data=dataset_val)"
      ],
      "metadata": {
        "colab": {
          "base_uri": "https://localhost:8080/"
        },
        "id": "31R3yAyEVAUq",
        "outputId": "3a0856bc-3609-4132-88e9-2ce3113d6c4c"
      },
      "execution_count": null,
      "outputs": [
        {
          "output_type": "stream",
          "name": "stdout",
          "text": [
            "Epoch 1/20\n",
            "46/46 [==============================] - 9s 153ms/step - loss: 0.0832 - val_loss: 0.0537\n",
            "Epoch 2/20\n",
            "46/46 [==============================] - 6s 141ms/step - loss: 0.0384 - val_loss: 0.0279\n",
            "Epoch 3/20\n",
            "46/46 [==============================] - 6s 141ms/step - loss: 0.0268 - val_loss: 0.0219\n",
            "Epoch 4/20\n",
            "46/46 [==============================] - 6s 140ms/step - loss: 0.0220 - val_loss: 0.0189\n",
            "Epoch 5/20\n",
            "46/46 [==============================] - 6s 140ms/step - loss: 0.0195 - val_loss: 0.0170\n",
            "Epoch 6/20\n",
            "46/46 [==============================] - 6s 141ms/step - loss: 0.0179 - val_loss: 0.0157\n",
            "Epoch 7/20\n",
            "46/46 [==============================] - 7s 142ms/step - loss: 0.0168 - val_loss: 0.0146\n",
            "Epoch 8/20\n",
            "46/46 [==============================] - 7s 144ms/step - loss: 0.0158 - val_loss: 0.0139\n",
            "Epoch 9/20\n",
            "46/46 [==============================] - 7s 146ms/step - loss: 0.0151 - val_loss: 0.0133\n",
            "Epoch 10/20\n",
            "46/46 [==============================] - 7s 144ms/step - loss: 0.0146 - val_loss: 0.0128\n",
            "Epoch 11/20\n",
            "46/46 [==============================] - 7s 148ms/step - loss: 0.0142 - val_loss: 0.0123\n",
            "Epoch 12/20\n",
            "46/46 [==============================] - 8s 180ms/step - loss: 0.0139 - val_loss: 0.0119\n",
            "Epoch 13/20\n",
            "46/46 [==============================] - 7s 146ms/step - loss: 0.0136 - val_loss: 0.0116\n",
            "Epoch 14/20\n",
            "46/46 [==============================] - 7s 148ms/step - loss: 0.0134 - val_loss: 0.0113\n",
            "Epoch 15/20\n",
            "46/46 [==============================] - 7s 144ms/step - loss: 0.0132 - val_loss: 0.0110\n",
            "Epoch 16/20\n",
            "46/46 [==============================] - 7s 145ms/step - loss: 0.0131 - val_loss: 0.0108\n",
            "Epoch 17/20\n",
            "46/46 [==============================] - 8s 170ms/step - loss: 0.0129 - val_loss: 0.0106\n",
            "Epoch 18/20\n",
            "46/46 [==============================] - 7s 144ms/step - loss: 0.0128 - val_loss: 0.0105\n",
            "Epoch 19/20\n",
            "46/46 [==============================] - 7s 145ms/step - loss: 0.0127 - val_loss: 0.0103\n",
            "Epoch 20/20\n",
            "46/46 [==============================] - 7s 145ms/step - loss: 0.0126 - val_loss: 0.0102\n"
          ]
        }
      ]
    },
    {
      "cell_type": "code",
      "source": [
        "def visualize_loss(history, title):\n",
        "    loss = history.history[\"loss\"]\n",
        "    val_loss = history.history[\"val_loss\"]\n",
        "    epochs = range(len(loss))\n",
        "    plt.figure()\n",
        "    plt.plot(epochs, loss, \"b\", label=\"Training loss\")\n",
        "    plt.plot(epochs, val_loss, \"r\", label=\"Validation loss\")\n",
        "    plt.title(title)\n",
        "    plt.xlabel(\"Epochs\")\n",
        "    plt.ylabel(\"Loss\")\n",
        "    plt.legend()\n",
        "    plt.show()\n",
        "\n",
        "\n",
        "visualize_loss(history, \"Training and Validation Loss\")"
      ],
      "metadata": {
        "colab": {
          "base_uri": "https://localhost:8080/",
          "height": 295
        },
        "id": "aTCeLfI3XY_t",
        "outputId": "f1e568be-e8c9-422c-f6f9-25e149c3cc05"
      },
      "execution_count": null,
      "outputs": [
        {
          "output_type": "display_data",
          "data": {
            "text/plain": [
              "<Figure size 432x288 with 1 Axes>"
            ],
            "image/png": "[encoded data removed]"
          },
          "metadata": {
            "needs_background": "light"
          }
        }
      ]
    },
    {
      "cell_type": "code",
      "source": [
        "X_kag = pro_test[['temp', 'dwpt', 'rhum', 'prcp', 'snow', 'wdir', 'wspd', 'wpgt',\n",
        "       'pres', 'el_price', 'month',\n",
        "       'Monday', 'Tuesday', 'Wendesday', 'Thursday', 'Friday', 'Saturday',\n",
        "       'Sunday', '0hour', '1hour', '2hour', '3hour', '4hour', '5hour', '6hour',\n",
        "       '7hour', '8hour', '9hour', '10hour', '11hour', '12hour', '13hour',\n",
        "       '14hour', '15hour', '16hour', '17hour', '18hour', '19hour', '20hour',\n",
        "       '21hour', '22hour', '23hour', 'sin_hour', 'cos_hour', 'sin_day',\n",
        "       'cos_day']]\n",
        "\n",
        "dataset_test = tf.keras.preprocessing.timeseries_dataset_from_array(\n",
        "    X_kag,\n",
        "    np.zeros(len(X_kag)),\n",
        "    sequence_length=168,\n",
        "    sampling_rate=1,\n",
        "    sequence_stride=1\n",
        ")\n",
        "x_test = dataset_test.as_numpy_iterator()\n",
        "\n",
        "print(model.predict(x_test))"
      ],
      "metadata": {
        "colab": {
          "base_uri": "https://localhost:8080/"
        },
        "id": "UApno7suX_V0",
        "outputId": "e2dcc23e-b91c-4fb2-bd05-f6198412efa8"
      },
      "execution_count": null,
      "outputs": [
        {
          "output_type": "stream",
          "name": "stdout",
          "text": [
            "1/1 [==============================] - 1s 505ms/step\n",
            "[[0.15368918]]\n"
          ]
        }
      ]
    },
    {
      "cell_type": "markdown",
      "source": [
        "## Basic CNN"
      ],
      "metadata": {
        "id": "NxWpVwQqaDaf"
      }
    },
    {
      "cell_type": "code",
      "source": [
        "from tensorflow.keras.layers import Input, Conv2D, Activation, Flatten, Dense, MaxPooling2D, BatchNormalization, Dropout\n",
        "from keras.models import Sequential"
      ],
      "metadata": {
        "id": "o9FnTN7UclmU"
      },
      "execution_count": null,
      "outputs": []
    },
    {
      "cell_type": "code",
      "source": [
        "model = Sequential()\n",
        "\n",
        "model.add(Dense(64,activation='relu', input_dim=(46)))\n",
        "model.add(BatchNormalization())\n",
        "model.add(Dense(32,activation='relu'))\n",
        "model.add(BatchNormalization())\n",
        "model.add(Dense(16,activation='relu'))\n",
        "model.add(BatchNormalization())\n",
        "model.add(Dense(8,activation='relu'))\n",
        "model.add(BatchNormalization())\n",
        "model.add(Dense(4,activation='relu'))\n",
        "model.add(BatchNormalization())\n",
        "model.add(Dense(2,activation='relu'))\n",
        "model.add(BatchNormalization())\n",
        "model.add(Dense(1))\n",
        "\n",
        "model.compile(optimizer=tf.keras.optimizers.Adam(learning_rate=0.0001), loss='mse') "
      ],
      "metadata": {
        "id": "z2GKNYM5cmW_"
      },
      "execution_count": null,
      "outputs": []
    },
    {
      "cell_type": "code",
      "source": [
        "batch_size = 168\n",
        "epochs = 100\n",
        "\n",
        "history2 = model.fit(X_train, y_train, batch_size=batch_size, epochs=epochs, verbose=1, validation_data=(X_test, y_test))"
      ],
      "metadata": {
        "colab": {
          "base_uri": "https://localhost:8080/"
        },
        "id": "O0Xw8xiKdvHn",
        "outputId": "b4d99074-38b1-4a51-87e5-c6ead2e891b5"
      },
      "execution_count": null,
      "outputs": [
        {
          "output_type": "stream",
          "name": "stdout",
          "text": [
            "Epoch 1/100\n",
            "36/36 [==============================] - 0s 13ms/step - loss: 0.4670 - val_loss: 0.5214\n",
            "Epoch 2/100\n",
            "36/36 [==============================] - 0s 10ms/step - loss: 0.4201 - val_loss: 0.5052\n",
            "Epoch 3/100\n",
            "36/36 [==============================] - 1s 15ms/step - loss: 0.3984 - val_loss: 0.4948\n",
            "Epoch 4/100\n",
            "36/36 [==============================] - 0s 10ms/step - loss: 0.3811 - val_loss: 0.4782\n",
            "Epoch 5/100\n",
            "36/36 [==============================] - 0s 12ms/step - loss: 0.3697 - val_loss: 0.4658\n",
            "Epoch 6/100\n",
            "36/36 [==============================] - 1s 15ms/step - loss: 0.3451 - val_loss: 0.4479\n",
            "Epoch 7/100\n",
            "36/36 [==============================] - 0s 11ms/step - loss: 0.3261 - val_loss: 0.4404\n",
            "Epoch 8/100\n",
            "36/36 [==============================] - 1s 14ms/step - loss: 0.3117 - val_loss: 0.4170\n",
            "Epoch 9/100\n",
            "36/36 [==============================] - 1s 15ms/step - loss: 0.3061 - val_loss: 0.4002\n",
            "Epoch 10/100\n",
            "36/36 [==============================] - 0s 11ms/step - loss: 0.2877 - val_loss: 0.3801\n",
            "Epoch 11/100\n",
            "36/36 [==============================] - 0s 8ms/step - loss: 0.2855 - val_loss: 0.3574\n",
            "Epoch 12/100\n",
            "36/36 [==============================] - 0s 6ms/step - loss: 0.2561 - val_loss: 0.3384\n",
            "Epoch 13/100\n",
            "36/36 [==============================] - 0s 5ms/step - loss: 0.2478 - val_loss: 0.3146\n",
            "Epoch 14/100\n",
            "36/36 [==============================] - 0s 5ms/step - loss: 0.2185 - val_loss: 0.3104\n",
            "Epoch 15/100\n",
            "36/36 [==============================] - 0s 5ms/step - loss: 0.2180 - val_loss: 0.2990\n",
            "Epoch 16/100\n",
            "36/36 [==============================] - 0s 7ms/step - loss: 0.2161 - val_loss: 0.2898\n",
            "Epoch 17/100\n",
            "36/36 [==============================] - 0s 5ms/step - loss: 0.1971 - val_loss: 0.2800\n",
            "Epoch 18/100\n",
            "36/36 [==============================] - 0s 5ms/step - loss: 0.1837 - val_loss: 0.2689\n",
            "Epoch 19/100\n",
            "36/36 [==============================] - 0s 5ms/step - loss: 0.1818 - val_loss: 0.2563\n",
            "Epoch 20/100\n",
            "36/36 [==============================] - 0s 5ms/step - loss: 0.1892 - val_loss: 0.2454\n",
            "Epoch 21/100\n",
            "36/36 [==============================] - 0s 6ms/step - loss: 0.1690 - val_loss: 0.2386\n",
            "Epoch 22/100\n",
            "36/36 [==============================] - 0s 6ms/step - loss: 0.1484 - val_loss: 0.2278\n",
            "Epoch 23/100\n",
            "36/36 [==============================] - 0s 6ms/step - loss: 0.1398 - val_loss: 0.2182\n",
            "Epoch 24/100\n",
            "36/36 [==============================] - 0s 6ms/step - loss: 0.1257 - val_loss: 0.2056\n",
            "Epoch 25/100\n",
            "36/36 [==============================] - 0s 7ms/step - loss: 0.1186 - val_loss: 0.1957\n",
            "Epoch 26/100\n",
            "36/36 [==============================] - 0s 5ms/step - loss: 0.1077 - val_loss: 0.1892\n",
            "Epoch 27/100\n",
            "36/36 [==============================] - 0s 6ms/step - loss: 0.1038 - val_loss: 0.1802\n",
            "Epoch 28/100\n",
            "36/36 [==============================] - 0s 6ms/step - loss: 0.0959 - val_loss: 0.1632\n",
            "Epoch 29/100\n",
            "36/36 [==============================] - 0s 6ms/step - loss: 0.0918 - val_loss: 0.1527\n",
            "Epoch 30/100\n",
            "36/36 [==============================] - 0s 7ms/step - loss: 0.0756 - val_loss: 0.1429\n",
            "Epoch 31/100\n",
            "36/36 [==============================] - 0s 5ms/step - loss: 0.0668 - val_loss: 0.1365\n",
            "Epoch 32/100\n",
            "36/36 [==============================] - 0s 5ms/step - loss: 0.0690 - val_loss: 0.1322\n",
            "Epoch 33/100\n",
            "36/36 [==============================] - 0s 5ms/step - loss: 0.0663 - val_loss: 0.1244\n",
            "Epoch 34/100\n",
            "36/36 [==============================] - 0s 6ms/step - loss: 0.0654 - val_loss: 0.1179\n",
            "Epoch 35/100\n",
            "36/36 [==============================] - 0s 5ms/step - loss: 0.0523 - val_loss: 0.1159\n",
            "Epoch 36/100\n",
            "36/36 [==============================] - 0s 5ms/step - loss: 0.0684 - val_loss: 0.1136\n",
            "Epoch 37/100\n",
            "36/36 [==============================] - 0s 6ms/step - loss: 0.0558 - val_loss: 0.1096\n",
            "Epoch 38/100\n",
            "36/36 [==============================] - 0s 5ms/step - loss: 0.0514 - val_loss: 0.1066\n",
            "Epoch 39/100\n",
            "36/36 [==============================] - 0s 7ms/step - loss: 0.0501 - val_loss: 0.1053\n",
            "Epoch 40/100\n",
            "36/36 [==============================] - 0s 6ms/step - loss: 0.0452 - val_loss: 0.1021\n",
            "Epoch 41/100\n",
            "36/36 [==============================] - 0s 6ms/step - loss: 0.0434 - val_loss: 0.0999\n",
            "Epoch 42/100\n",
            "36/36 [==============================] - 0s 5ms/step - loss: 0.0493 - val_loss: 0.0979\n",
            "Epoch 43/100\n",
            "36/36 [==============================] - 0s 6ms/step - loss: 0.0479 - val_loss: 0.0936\n",
            "Epoch 44/100\n",
            "36/36 [==============================] - 0s 7ms/step - loss: 0.0412 - val_loss: 0.0925\n",
            "Epoch 45/100\n",
            "36/36 [==============================] - 0s 6ms/step - loss: 0.0468 - val_loss: 0.0894\n",
            "Epoch 46/100\n",
            "36/36 [==============================] - 0s 6ms/step - loss: 0.0370 - val_loss: 0.0867\n",
            "Epoch 47/100\n",
            "36/36 [==============================] - 0s 6ms/step - loss: 0.0414 - val_loss: 0.0859\n",
            "Epoch 48/100\n",
            "36/36 [==============================] - 0s 6ms/step - loss: 0.0391 - val_loss: 0.0834\n",
            "Epoch 49/100\n",
            "36/36 [==============================] - 0s 7ms/step - loss: 0.0362 - val_loss: 0.0849\n",
            "Epoch 50/100\n",
            "36/36 [==============================] - 0s 5ms/step - loss: 0.0426 - val_loss: 0.0839\n",
            "Epoch 51/100\n",
            "36/36 [==============================] - 0s 6ms/step - loss: 0.0325 - val_loss: 0.0827\n",
            "Epoch 52/100\n",
            "36/36 [==============================] - 0s 6ms/step - loss: 0.0436 - val_loss: 0.0798\n",
            "Epoch 53/100\n",
            "36/36 [==============================] - 0s 7ms/step - loss: 0.0327 - val_loss: 0.0762\n",
            "Epoch 54/100\n",
            "36/36 [==============================] - 0s 5ms/step - loss: 0.0328 - val_loss: 0.0754\n",
            "Epoch 55/100\n",
            "36/36 [==============================] - 0s 7ms/step - loss: 0.0314 - val_loss: 0.0740\n",
            "Epoch 56/100\n",
            "36/36 [==============================] - 0s 5ms/step - loss: 0.0296 - val_loss: 0.0736\n",
            "Epoch 57/100\n",
            "36/36 [==============================] - 0s 6ms/step - loss: 0.0316 - val_loss: 0.0717\n",
            "Epoch 58/100\n",
            "36/36 [==============================] - 0s 6ms/step - loss: 0.0304 - val_loss: 0.0703\n",
            "Epoch 59/100\n",
            "36/36 [==============================] - 0s 7ms/step - loss: 0.0271 - val_loss: 0.0680\n",
            "Epoch 60/100\n",
            "36/36 [==============================] - 0s 7ms/step - loss: 0.0279 - val_loss: 0.0679\n",
            "Epoch 61/100\n",
            "36/36 [==============================] - 0s 6ms/step - loss: 0.0274 - val_loss: 0.0689\n",
            "Epoch 62/100\n",
            "36/36 [==============================] - 0s 6ms/step - loss: 0.0280 - val_loss: 0.0685\n",
            "Epoch 63/100\n",
            "36/36 [==============================] - 0s 6ms/step - loss: 0.0266 - val_loss: 0.0675\n",
            "Epoch 64/100\n",
            "36/36 [==============================] - 0s 6ms/step - loss: 0.0267 - val_loss: 0.0678\n",
            "Epoch 65/100\n",
            "36/36 [==============================] - 0s 5ms/step - loss: 0.0259 - val_loss: 0.0682\n",
            "Epoch 66/100\n",
            "36/36 [==============================] - 0s 5ms/step - loss: 0.0264 - val_loss: 0.0671\n",
            "Epoch 67/100\n",
            "36/36 [==============================] - 0s 7ms/step - loss: 0.0287 - val_loss: 0.0667\n",
            "Epoch 68/100\n",
            "36/36 [==============================] - 0s 6ms/step - loss: 0.0277 - val_loss: 0.0654\n",
            "Epoch 69/100\n",
            "36/36 [==============================] - 0s 5ms/step - loss: 0.0297 - val_loss: 0.0674\n",
            "Epoch 70/100\n",
            "36/36 [==============================] - 0s 6ms/step - loss: 0.0284 - val_loss: 0.0667\n",
            "Epoch 71/100\n",
            "36/36 [==============================] - 0s 7ms/step - loss: 0.0268 - val_loss: 0.0662\n",
            "Epoch 72/100\n",
            "36/36 [==============================] - 0s 6ms/step - loss: 0.0267 - val_loss: 0.0663\n",
            "Epoch 73/100\n",
            "36/36 [==============================] - 0s 6ms/step - loss: 0.0259 - val_loss: 0.0644\n",
            "Epoch 74/100\n",
            "36/36 [==============================] - 0s 6ms/step - loss: 0.0277 - val_loss: 0.0637\n",
            "Epoch 75/100\n",
            "36/36 [==============================] - 0s 5ms/step - loss: 0.0272 - val_loss: 0.0618\n",
            "Epoch 76/100\n",
            "36/36 [==============================] - 0s 6ms/step - loss: 0.0233 - val_loss: 0.0615\n",
            "Epoch 77/100\n",
            "36/36 [==============================] - 0s 5ms/step - loss: 0.0253 - val_loss: 0.0603\n",
            "Epoch 78/100\n",
            "36/36 [==============================] - 0s 7ms/step - loss: 0.0272 - val_loss: 0.0597\n",
            "Epoch 79/100\n",
            "36/36 [==============================] - 0s 5ms/step - loss: 0.0242 - val_loss: 0.0579\n",
            "Epoch 80/100\n",
            "36/36 [==============================] - 0s 6ms/step - loss: 0.0246 - val_loss: 0.0573\n",
            "Epoch 81/100\n",
            "36/36 [==============================] - 0s 5ms/step - loss: 0.0233 - val_loss: 0.0565\n",
            "Epoch 82/100\n",
            "36/36 [==============================] - 0s 5ms/step - loss: 0.0250 - val_loss: 0.0558\n",
            "Epoch 83/100\n",
            "36/36 [==============================] - 0s 5ms/step - loss: 0.0235 - val_loss: 0.0553\n",
            "Epoch 84/100\n",
            "36/36 [==============================] - 0s 5ms/step - loss: 0.0256 - val_loss: 0.0542\n",
            "Epoch 85/100\n",
            "36/36 [==============================] - 0s 5ms/step - loss: 0.0223 - val_loss: 0.0530\n",
            "Epoch 86/100\n",
            "36/36 [==============================] - 0s 6ms/step - loss: 0.0231 - val_loss: 0.0537\n",
            "Epoch 87/100\n",
            "36/36 [==============================] - 0s 6ms/step - loss: 0.0214 - val_loss: 0.0538\n",
            "Epoch 88/100\n",
            "36/36 [==============================] - 0s 6ms/step - loss: 0.0213 - val_loss: 0.0529\n",
            "Epoch 89/100\n",
            "36/36 [==============================] - 0s 6ms/step - loss: 0.0224 - val_loss: 0.0517\n",
            "Epoch 90/100\n",
            "36/36 [==============================] - 0s 7ms/step - loss: 0.0237 - val_loss: 0.0506\n",
            "Epoch 91/100\n",
            "36/36 [==============================] - 0s 6ms/step - loss: 0.0221 - val_loss: 0.0495\n",
            "Epoch 92/100\n",
            "36/36 [==============================] - 0s 5ms/step - loss: 0.0251 - val_loss: 0.0485\n",
            "Epoch 93/100\n",
            "36/36 [==============================] - 0s 6ms/step - loss: 0.0225 - val_loss: 0.0481\n",
            "Epoch 94/100\n",
            "36/36 [==============================] - 0s 6ms/step - loss: 0.0199 - val_loss: 0.0479\n",
            "Epoch 95/100\n",
            "36/36 [==============================] - 0s 6ms/step - loss: 0.0199 - val_loss: 0.0479\n",
            "Epoch 96/100\n",
            "36/36 [==============================] - 0s 6ms/step - loss: 0.0203 - val_loss: 0.0471\n",
            "Epoch 97/100\n",
            "36/36 [==============================] - 0s 6ms/step - loss: 0.0206 - val_loss: 0.0462\n",
            "Epoch 98/100\n",
            "36/36 [==============================] - 0s 5ms/step - loss: 0.0199 - val_loss: 0.0460\n",
            "Epoch 99/100\n",
            "36/36 [==============================] - 0s 6ms/step - loss: 0.0213 - val_loss: 0.0469\n",
            "Epoch 100/100\n",
            "36/36 [==============================] - 0s 7ms/step - loss: 0.0196 - val_loss: 0.0462\n"
          ]
        }
      ]
    },
    {
      "cell_type": "code",
      "source": [
        "test_pred = model.predict(X_kag)\n",
        "\n",
        "pred = normScaler.inverse_transform(test_pred)\n",
        "np.shape(pred.flatten())"
      ],
      "metadata": {
        "colab": {
          "base_uri": "https://localhost:8080/"
        },
        "id": "JnYVTkY-eMim",
        "outputId": "4e07efd0-ecea-4bc5-c9c2-d464e4333323"
      },
      "execution_count": null,
      "outputs": [
        {
          "output_type": "stream",
          "name": "stdout",
          "text": [
            "6/6 [==============================] - 0s 4ms/step\n"
          ]
        },
        {
          "output_type": "execute_result",
          "data": {
            "text/plain": [
              "(168,)"
            ]
          },
          "metadata": {},
          "execution_count": 153
        }
      ]
    },
    {
      "cell_type": "code",
      "source": [
        "submission = pd.DataFrame(\n",
        "    {'time': pro_test.time, 'consumption': pred.flatten()},\n",
        "    columns = ['time', 'consumption'])\n",
        "submission.to_csv('Dense_NN.csv', index = False)"
      ],
      "metadata": {
        "id": "EesF-HyZeYR_"
      },
      "execution_count": null,
      "outputs": []
    },
    {
      "cell_type": "code",
      "source": [
        "!kaggle competitions submit -c predict-electricity-consumption -f Dense_NN.csv -m \"Tensorflow dense model predictions.\""
      ],
      "metadata": {
        "colab": {
          "base_uri": "https://localhost:8080/"
        },
        "id": "aiecHhlhfDu7",
        "outputId": "e64dcd3b-dc7d-4d5c-f304-e1aee0bebcb0"
      },
      "execution_count": null,
      "outputs": [
        {
          "output_type": "stream",
          "name": "stdout",
          "text": [
            "100% 5.95k/5.95k [00:02<00:00, 2.57kB/s]\n",
            "Successfully submitted to Journey to zero - Predict electricity consumption"
          ]
        }
      ]
    }
  ]
}